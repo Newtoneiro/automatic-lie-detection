{
 "cells": [
  {
   "cell_type": "code",
   "execution_count": 1,
   "metadata": {},
   "outputs": [],
   "source": [
    "import sys\n",
    "import os\n",
    "\n",
    "sys.path.append(os.path.abspath('..'))"
   ]
  },
  {
   "cell_type": "code",
   "execution_count": 2,
   "metadata": {},
   "outputs": [
    {
     "name": "stdout",
     "output_type": "stream",
     "text": [
      "PyTorch version: 2.5.1+cu118\n",
      "**********\n",
      "_CUDA version: \n",
      "CUDA version:\n",
      "nvcc: NVIDIA (R) Cuda compiler driver\n",
      "Copyright (c) 2005-2024 NVIDIA Corporation\n",
      "Built on Wed_Oct_30_01:18:48_Pacific_Daylight_Time_2024\n",
      "Cuda compilation tools, release 12.6, V12.6.85\n",
      "Build cuda_12.6.r12.6/compiler.35059454_0\n",
      "\n",
      "**********\n",
      "CUDNN version: 90100\n",
      "Available GPU devices: 1\n",
      "Device Name: NVIDIA GeForce RTX 4070 Ti SUPER\n"
     ]
    }
   ],
   "source": [
    "from utils import get_cuda_info\n",
    "\n",
    "get_cuda_info()"
   ]
  },
  {
   "cell_type": "markdown",
   "metadata": {},
   "source": [
    "## Wybór optymalnych punktów charakterystycznych"
   ]
  },
  {
   "cell_type": "code",
   "execution_count": 3,
   "metadata": {},
   "outputs": [],
   "source": [
    "import numpy as np\n",
    "\n",
    "LANDMARK_INDEXES = np.load(os.path.join('..', '..', 'data', 'landmarks', 'combined_selected_points_emotions.npy'))\n",
    "REFERENCE_POINT_IDX = 0"
   ]
  },
  {
   "cell_type": "markdown",
   "metadata": {},
   "source": [
    "## Zdobycie danych"
   ]
  },
  {
   "cell_type": "code",
   "execution_count": 4,
   "metadata": {},
   "outputs": [],
   "source": [
    "from utils import load_data, convert_landmarks_to_distances\n",
    "\n",
    "all_data, all_labels = load_data('ravdess')\n",
    "all_data = convert_landmarks_to_distances(all_data, LANDMARK_INDEXES, REFERENCE_POINT_IDX)"
   ]
  },
  {
   "cell_type": "markdown",
   "metadata": {},
   "source": [
    "## Preprocessing danych"
   ]
  },
  {
   "cell_type": "code",
   "execution_count": null,
   "metadata": {},
   "outputs": [],
   "source": [
    "from utils import preprocess_data\n",
    "\n",
    "X_train, X_val, X_test, y_train, y_val, y_test = preprocess_data(all_data, all_labels)"
   ]
  },
  {
   "cell_type": "code",
   "execution_count": 18,
   "metadata": {},
   "outputs": [
    {
     "name": "stdout",
     "output_type": "stream",
     "text": [
      "torch.Size([2012, 157, 154])\n",
      "torch.Size([2012, 8])\n"
     ]
    }
   ],
   "source": [
    "print(X_train.shape)\n",
    "print(y_train.shape)"
   ]
  },
  {
   "cell_type": "markdown",
   "metadata": {},
   "source": [
    "# MODEL TORCH"
   ]
  },
  {
   "cell_type": "markdown",
   "metadata": {},
   "source": [
    "### W podejściu wykorzystane zostaną 2 modele - pierwszy z nich będzie siecią konwolucyjną 2d, która będzie miała za zadanie nauczyć się rozpoznawać cechy charakterystyczne dla wybranej klatki (zbioru współrzędnych pkt charakterystycznych). Do klasyfikacji szeregu czasowego zostanie wykorzystana sekwencyjna sieć neuronowa LSTM."
   ]
  },
  {
   "cell_type": "markdown",
   "metadata": {},
   "source": [
    "## Zbudowanie modelu ekstrakcji cech"
   ]
  },
  {
   "cell_type": "code",
   "execution_count": 19,
   "metadata": {},
   "outputs": [],
   "source": [
    "import torch.nn as nn\n",
    "import torch.nn.functional as F"
   ]
  },
  {
   "cell_type": "code",
   "execution_count": null,
   "metadata": {},
   "outputs": [],
   "source": [
    "class EmotionClassifier(nn.Module):\n",
    "    def __init__(self, number_landmarks=LANDMARK_INDEXES.size):\n",
    "        super(EmotionClassifier, self).__init__()\n",
    "\n",
    "        self.number_landmarks = number_landmarks\n",
    "        \n",
    "        # Spatial feature extraction using Conv1D\n",
    "        self.conv1 = nn.Conv1d(in_channels=1, out_channels=32, kernel_size=3, padding=1)  # in_channels=1 for distances\n",
    "        self.pool1 = nn.MaxPool1d(kernel_size=2)\n",
    "        \n",
    "        # Calculate the number of features after Conv1D and pooling\n",
    "        # Conv1D output: (batch_size * frames, 32, number_landmarks)\n",
    "        # Pool1D output: (batch_size * frames, 32, number_landmarks // 2)\n",
    "        self.flattened_features = 32 * (number_landmarks // 2)\n",
    "        \n",
    "        # LSTM layers for temporal feature extraction\n",
    "        self.lstm1 = nn.LSTM(input_size=self.flattened_features, hidden_size=128, batch_first=True, bidirectional=True)\n",
    "        self.lstm2 = nn.LSTM(input_size=128 * 2, hidden_size=64, batch_first=True)\n",
    "        \n",
    "        # Fully connected classification layer\n",
    "        self.fc = nn.Linear(64, 8)  # 8 emotion classes\n",
    "\n",
    "    def forward(self, x):\n",
    "        # x shape: (batch_size, frames, number_landmarks)\n",
    "        batch_size, frames, landmarks = x.shape\n",
    "        \n",
    "        # Reshape for Conv1D: (batch_size * frames, 1, landmarks)\n",
    "        x = x.view(-1, landmarks).unsqueeze(1)  # Shape: (batch_size * frames, 1, number_landmarks)\n",
    "        \n",
    "        # Spatial feature extraction\n",
    "        x = F.relu(self.conv1(x))  # Shape: (batch_size * frames, 32, number_landmarks)\n",
    "        x = self.pool1(x)          # Shape: (batch_size * frames, 32, number_landmarks // 2)\n",
    "        \n",
    "        # Flatten spatial features\n",
    "        x = x.view(batch_size, frames, -1)  # Shape: (batch_size, frames, 32 * (number_landmarks // 2))\n",
    "        \n",
    "        # Temporal feature extraction\n",
    "        x, _ = self.lstm1(x)  # Shape: (batch_size, frames, 128 * 2)\n",
    "        x, _ = self.lstm2(x)  # Shape: (batch_size, frames, 64)\n",
    "        \n",
    "        # Classification\n",
    "        x = self.fc(x[:, -1, :])  # Take the last timestep's output; Shape: (batch_size, 8)\n",
    "        return x"
   ]
  },
  {
   "cell_type": "code",
   "execution_count": 21,
   "metadata": {},
   "outputs": [],
   "source": [
    "from torch.optim import Adam\n",
    "\n",
    "model = EmotionClassifier()\n",
    "criterion = nn.CrossEntropyLoss()\n",
    "optimizer = Adam(model.parameters(), lr=1e-4)"
   ]
  },
  {
   "cell_type": "markdown",
   "metadata": {},
   "source": [
    "## Trening modelu"
   ]
  },
  {
   "cell_type": "code",
   "execution_count": null,
   "metadata": {},
   "outputs": [],
   "source": [
    "from torch.utils.tensorboard import SummaryWriter\n",
    "\n",
    "RUNS_FOLDER_PATH = os.path.abspath('runs')\n",
    "writer_path = os.path.join('runs', 'torch_lstm', 'emotion_classifier_landmark_distance')\n",
    "writer = SummaryWriter(writer_path)"
   ]
  },
  {
   "cell_type": "code",
   "execution_count": null,
   "metadata": {},
   "outputs": [
    {
     "name": "stdout",
     "output_type": "stream",
     "text": [
      "Epoch 1/300, Train Loss: 130.3934, Train Acc: 0.1332, Val Loss: 28.8059, Val Acc: 0.1346\n",
      "Epoch 2/300, Train Loss: 129.3320, Train Acc: 0.1645, Val Loss: 28.6593, Val Acc: 0.1694\n",
      "Epoch 3/300, Train Loss: 127.0614, Train Acc: 0.1834, Val Loss: 27.8937, Val Acc: 0.1787\n",
      "Epoch 4/300, Train Loss: 124.8661, Train Acc: 0.1899, Val Loss: 27.5323, Val Acc: 0.1787\n",
      "Epoch 5/300, Train Loss: 124.3736, Train Acc: 0.2063, Val Loss: 27.9171, Val Acc: 0.1601\n",
      "Epoch 6/300, Train Loss: 123.3646, Train Acc: 0.1958, Val Loss: 27.3314, Val Acc: 0.1624\n",
      "Epoch 7/300, Train Loss: 123.6661, Train Acc: 0.1948, Val Loss: 27.2683, Val Acc: 0.1995\n",
      "Epoch 8/300, Train Loss: 122.8866, Train Acc: 0.2232, Val Loss: 27.2743, Val Acc: 0.2019\n",
      "Epoch 9/300, Train Loss: 123.2685, Train Acc: 0.2102, Val Loss: 27.6643, Val Acc: 0.1926\n",
      "Epoch 10/300, Train Loss: 122.5705, Train Acc: 0.2247, Val Loss: 27.3693, Val Acc: 0.1926\n",
      "Epoch 11/300, Train Loss: 122.7633, Train Acc: 0.2162, Val Loss: 27.3115, Val Acc: 0.1972\n",
      "Epoch 12/300, Train Loss: 122.8777, Train Acc: 0.2097, Val Loss: 27.3251, Val Acc: 0.1740\n",
      "Epoch 13/300, Train Loss: 122.9534, Train Acc: 0.2112, Val Loss: 27.2745, Val Acc: 0.2042\n",
      "Epoch 14/300, Train Loss: 122.5515, Train Acc: 0.2097, Val Loss: 27.2264, Val Acc: 0.1926\n",
      "Epoch 15/300, Train Loss: 122.1519, Train Acc: 0.2167, Val Loss: 27.3256, Val Acc: 0.1949\n",
      "Epoch 16/300, Train Loss: 122.3892, Train Acc: 0.2043, Val Loss: 27.2769, Val Acc: 0.1972\n",
      "Epoch 17/300, Train Loss: 122.4193, Train Acc: 0.2142, Val Loss: 27.2449, Val Acc: 0.1926\n",
      "Epoch 18/300, Train Loss: 122.4052, Train Acc: 0.2162, Val Loss: 27.2241, Val Acc: 0.2019\n",
      "Epoch 19/300, Train Loss: 122.2128, Train Acc: 0.2192, Val Loss: 27.1974, Val Acc: 0.1995\n",
      "Epoch 20/300, Train Loss: 122.1861, Train Acc: 0.2187, Val Loss: 27.2081, Val Acc: 0.1879\n",
      "Epoch 21/300, Train Loss: 122.2509, Train Acc: 0.2132, Val Loss: 27.3760, Val Acc: 0.1787\n",
      "Epoch 22/300, Train Loss: 122.0367, Train Acc: 0.2187, Val Loss: 27.1682, Val Acc: 0.1879\n",
      "Epoch 23/300, Train Loss: 121.8113, Train Acc: 0.2202, Val Loss: 27.0931, Val Acc: 0.1995\n",
      "Epoch 24/300, Train Loss: 121.8442, Train Acc: 0.2242, Val Loss: 27.0539, Val Acc: 0.1949\n",
      "Epoch 25/300, Train Loss: 121.6063, Train Acc: 0.2222, Val Loss: 26.9631, Val Acc: 0.1972\n",
      "Epoch 26/300, Train Loss: 121.0914, Train Acc: 0.2366, Val Loss: 27.0481, Val Acc: 0.2088\n",
      "Epoch 27/300, Train Loss: 121.0949, Train Acc: 0.2416, Val Loss: 26.8089, Val Acc: 0.2320\n",
      "Epoch 28/300, Train Loss: 121.0492, Train Acc: 0.2351, Val Loss: 26.6826, Val Acc: 0.2181\n",
      "Epoch 29/300, Train Loss: 119.6107, Train Acc: 0.2580, Val Loss: 26.5634, Val Acc: 0.2251\n",
      "Epoch 30/300, Train Loss: 119.3190, Train Acc: 0.2555, Val Loss: 26.3336, Val Acc: 0.2622\n",
      "Epoch 31/300, Train Loss: 118.7618, Train Acc: 0.2465, Val Loss: 26.5431, Val Acc: 0.2320\n",
      "Epoch 32/300, Train Loss: 118.4776, Train Acc: 0.2609, Val Loss: 26.4032, Val Acc: 0.2367\n",
      "Epoch 33/300, Train Loss: 118.2113, Train Acc: 0.2674, Val Loss: 26.6706, Val Acc: 0.2459\n",
      "Epoch 34/300, Train Loss: 117.8574, Train Acc: 0.2604, Val Loss: 26.1891, Val Acc: 0.2715\n",
      "Epoch 35/300, Train Loss: 117.9966, Train Acc: 0.2580, Val Loss: 26.2106, Val Acc: 0.2575\n",
      "Epoch 36/300, Train Loss: 117.0436, Train Acc: 0.2674, Val Loss: 26.0534, Val Acc: 0.2599\n",
      "Epoch 37/300, Train Loss: 117.1449, Train Acc: 0.2699, Val Loss: 26.3079, Val Acc: 0.2575\n",
      "Epoch 38/300, Train Loss: 117.9094, Train Acc: 0.2624, Val Loss: 26.2702, Val Acc: 0.2390\n",
      "Epoch 39/300, Train Loss: 117.6461, Train Acc: 0.2649, Val Loss: 26.1323, Val Acc: 0.2691\n",
      "Epoch 40/300, Train Loss: 116.4009, Train Acc: 0.2644, Val Loss: 26.1401, Val Acc: 0.2599\n",
      "Epoch 41/300, Train Loss: 116.5095, Train Acc: 0.2714, Val Loss: 26.1070, Val Acc: 0.2390\n",
      "Epoch 42/300, Train Loss: 116.6746, Train Acc: 0.2619, Val Loss: 25.9822, Val Acc: 0.2599\n",
      "Epoch 43/300, Train Loss: 116.1108, Train Acc: 0.2684, Val Loss: 26.1806, Val Acc: 0.2251\n",
      "Epoch 44/300, Train Loss: 116.3528, Train Acc: 0.2704, Val Loss: 25.8985, Val Acc: 0.2738\n",
      "Epoch 45/300, Train Loss: 115.8853, Train Acc: 0.2758, Val Loss: 25.9257, Val Acc: 0.2691\n",
      "Epoch 46/300, Train Loss: 116.4051, Train Acc: 0.2699, Val Loss: 26.1271, Val Acc: 0.2297\n",
      "Epoch 47/300, Train Loss: 115.9571, Train Acc: 0.2744, Val Loss: 26.1354, Val Acc: 0.2367\n",
      "Epoch 48/300, Train Loss: 116.3766, Train Acc: 0.2639, Val Loss: 25.8482, Val Acc: 0.2622\n",
      "Epoch 49/300, Train Loss: 115.6578, Train Acc: 0.2704, Val Loss: 25.8402, Val Acc: 0.2784\n",
      "Epoch 50/300, Train Loss: 115.3768, Train Acc: 0.2763, Val Loss: 26.0310, Val Acc: 0.2668\n",
      "Epoch 51/300, Train Loss: 115.4148, Train Acc: 0.2724, Val Loss: 25.7760, Val Acc: 0.2715\n",
      "Epoch 52/300, Train Loss: 115.8343, Train Acc: 0.2788, Val Loss: 26.2842, Val Acc: 0.2413\n",
      "Epoch 53/300, Train Loss: 115.9467, Train Acc: 0.2609, Val Loss: 25.8080, Val Acc: 0.2599\n",
      "Epoch 54/300, Train Loss: 115.0361, Train Acc: 0.2858, Val Loss: 25.6560, Val Acc: 0.2993\n",
      "Epoch 55/300, Train Loss: 114.6275, Train Acc: 0.2927, Val Loss: 25.6271, Val Acc: 0.2784\n",
      "Epoch 56/300, Train Loss: 114.3108, Train Acc: 0.2898, Val Loss: 25.7131, Val Acc: 0.2668\n",
      "Epoch 57/300, Train Loss: 115.0996, Train Acc: 0.2813, Val Loss: 25.4253, Val Acc: 0.2900\n",
      "Epoch 58/300, Train Loss: 115.6164, Train Acc: 0.2684, Val Loss: 25.8884, Val Acc: 0.2552\n",
      "Epoch 59/300, Train Loss: 115.4428, Train Acc: 0.2724, Val Loss: 25.3865, Val Acc: 0.2877\n",
      "Epoch 60/300, Train Loss: 113.8642, Train Acc: 0.2947, Val Loss: 25.3751, Val Acc: 0.2854\n",
      "Epoch 61/300, Train Loss: 114.3934, Train Acc: 0.2957, Val Loss: 25.4920, Val Acc: 0.2854\n",
      "Epoch 62/300, Train Loss: 113.4564, Train Acc: 0.3022, Val Loss: 25.3419, Val Acc: 0.2900\n",
      "Epoch 63/300, Train Loss: 113.7603, Train Acc: 0.2903, Val Loss: 25.8316, Val Acc: 0.2761\n",
      "Epoch 64/300, Train Loss: 114.0464, Train Acc: 0.2848, Val Loss: 25.3212, Val Acc: 0.3063\n",
      "Epoch 65/300, Train Loss: 113.0277, Train Acc: 0.3126, Val Loss: 25.5206, Val Acc: 0.2877\n",
      "Epoch 66/300, Train Loss: 112.9903, Train Acc: 0.3052, Val Loss: 25.7248, Val Acc: 0.2947\n",
      "Epoch 67/300, Train Loss: 113.1476, Train Acc: 0.3111, Val Loss: 25.2182, Val Acc: 0.2970\n",
      "Epoch 68/300, Train Loss: 111.6234, Train Acc: 0.3186, Val Loss: 24.8307, Val Acc: 0.2877\n",
      "Epoch 69/300, Train Loss: 114.4866, Train Acc: 0.2709, Val Loss: 25.3157, Val Acc: 0.2854\n",
      "Epoch 70/300, Train Loss: 112.8969, Train Acc: 0.2972, Val Loss: 25.1434, Val Acc: 0.2807\n",
      "Epoch 71/300, Train Loss: 112.6422, Train Acc: 0.2962, Val Loss: 25.1975, Val Acc: 0.2947\n",
      "Epoch 72/300, Train Loss: 111.7340, Train Acc: 0.3067, Val Loss: 24.4609, Val Acc: 0.3295\n",
      "Epoch 73/300, Train Loss: 109.8433, Train Acc: 0.3355, Val Loss: 24.4696, Val Acc: 0.3225\n",
      "Epoch 74/300, Train Loss: 109.5717, Train Acc: 0.3419, Val Loss: 24.1721, Val Acc: 0.3248\n",
      "Epoch 75/300, Train Loss: 108.9585, Train Acc: 0.3216, Val Loss: 24.0282, Val Acc: 0.3387\n",
      "Epoch 76/300, Train Loss: 109.6833, Train Acc: 0.3320, Val Loss: 24.1412, Val Acc: 0.3503\n",
      "Epoch 77/300, Train Loss: 109.4926, Train Acc: 0.3236, Val Loss: 23.5195, Val Acc: 0.3596\n",
      "Epoch 78/300, Train Loss: 107.0175, Train Acc: 0.3489, Val Loss: 24.4536, Val Acc: 0.3039\n",
      "Epoch 79/300, Train Loss: 107.3839, Train Acc: 0.3444, Val Loss: 23.6837, Val Acc: 0.3341\n",
      "Epoch 80/300, Train Loss: 111.8640, Train Acc: 0.3191, Val Loss: 24.2966, Val Acc: 0.3503\n",
      "Epoch 81/300, Train Loss: 106.4244, Train Acc: 0.3574, Val Loss: 23.4264, Val Acc: 0.3387\n",
      "Epoch 82/300, Train Loss: 104.4676, Train Acc: 0.3757, Val Loss: 22.5029, Val Acc: 0.3875\n",
      "Epoch 83/300, Train Loss: 103.6793, Train Acc: 0.3688, Val Loss: 22.6689, Val Acc: 0.3759\n",
      "Epoch 84/300, Train Loss: 102.3916, Train Acc: 0.3792, Val Loss: 23.1543, Val Acc: 0.3573\n",
      "Epoch 85/300, Train Loss: 104.4309, Train Acc: 0.3608, Val Loss: 23.0442, Val Acc: 0.3666\n",
      "Epoch 86/300, Train Loss: 103.3284, Train Acc: 0.3678, Val Loss: 22.4503, Val Acc: 0.3735\n",
      "Epoch 87/300, Train Loss: 101.9180, Train Acc: 0.3748, Val Loss: 23.0851, Val Acc: 0.3666\n",
      "Epoch 88/300, Train Loss: 103.2032, Train Acc: 0.3743, Val Loss: 23.6236, Val Acc: 0.2993\n",
      "Epoch 89/300, Train Loss: 101.8106, Train Acc: 0.3852, Val Loss: 22.2634, Val Acc: 0.3828\n",
      "Epoch 90/300, Train Loss: 99.4949, Train Acc: 0.3936, Val Loss: 22.1126, Val Acc: 0.3968\n",
      "Epoch 91/300, Train Loss: 100.1772, Train Acc: 0.4021, Val Loss: 21.9106, Val Acc: 0.4014\n",
      "Epoch 92/300, Train Loss: 99.2335, Train Acc: 0.3991, Val Loss: 21.8847, Val Acc: 0.3759\n",
      "Epoch 93/300, Train Loss: 99.5590, Train Acc: 0.3857, Val Loss: 22.2088, Val Acc: 0.3643\n",
      "Epoch 94/300, Train Loss: 98.7452, Train Acc: 0.3961, Val Loss: 22.1143, Val Acc: 0.3828\n",
      "Epoch 95/300, Train Loss: 98.7126, Train Acc: 0.3956, Val Loss: 21.7186, Val Acc: 0.3666\n",
      "Epoch 96/300, Train Loss: 97.7599, Train Acc: 0.4061, Val Loss: 22.4560, Val Acc: 0.3689\n",
      "Epoch 97/300, Train Loss: 98.2851, Train Acc: 0.4046, Val Loss: 21.7612, Val Acc: 0.4060\n",
      "Epoch 98/300, Train Loss: 97.8866, Train Acc: 0.4026, Val Loss: 21.8092, Val Acc: 0.3735\n",
      "Epoch 99/300, Train Loss: 97.7876, Train Acc: 0.4071, Val Loss: 22.3032, Val Acc: 0.3619\n",
      "Epoch 100/300, Train Loss: 97.6342, Train Acc: 0.4100, Val Loss: 23.4484, Val Acc: 0.3480\n",
      "Epoch 101/300, Train Loss: 97.5076, Train Acc: 0.4011, Val Loss: 21.6195, Val Acc: 0.3875\n",
      "Epoch 102/300, Train Loss: 97.8461, Train Acc: 0.4061, Val Loss: 22.5067, Val Acc: 0.3666\n",
      "Epoch 103/300, Train Loss: 96.8019, Train Acc: 0.4076, Val Loss: 21.8481, Val Acc: 0.3689\n",
      "Epoch 104/300, Train Loss: 95.9905, Train Acc: 0.4210, Val Loss: 21.3944, Val Acc: 0.4060\n",
      "Epoch 105/300, Train Loss: 94.8184, Train Acc: 0.4309, Val Loss: 21.3823, Val Acc: 0.3968\n",
      "Epoch 106/300, Train Loss: 95.8169, Train Acc: 0.4170, Val Loss: 22.0317, Val Acc: 0.3527\n",
      "Epoch 107/300, Train Loss: 95.5451, Train Acc: 0.4170, Val Loss: 21.4085, Val Acc: 0.4037\n",
      "Epoch 108/300, Train Loss: 94.9814, Train Acc: 0.4254, Val Loss: 21.0204, Val Acc: 0.3991\n",
      "Epoch 109/300, Train Loss: 95.8028, Train Acc: 0.4314, Val Loss: 22.0285, Val Acc: 0.3805\n",
      "Epoch 110/300, Train Loss: 94.7253, Train Acc: 0.4254, Val Loss: 20.7661, Val Acc: 0.4362\n",
      "Epoch 111/300, Train Loss: 93.7183, Train Acc: 0.4324, Val Loss: 20.7339, Val Acc: 0.4200\n",
      "Epoch 112/300, Train Loss: 94.3459, Train Acc: 0.4289, Val Loss: 20.6702, Val Acc: 0.4060\n",
      "Epoch 113/300, Train Loss: 94.8959, Train Acc: 0.4140, Val Loss: 20.9058, Val Acc: 0.4200\n",
      "Epoch 114/300, Train Loss: 92.8593, Train Acc: 0.4389, Val Loss: 20.7290, Val Acc: 0.4339\n",
      "Epoch 115/300, Train Loss: 93.1446, Train Acc: 0.4309, Val Loss: 20.9492, Val Acc: 0.4292\n",
      "Epoch 116/300, Train Loss: 93.8727, Train Acc: 0.4438, Val Loss: 21.0174, Val Acc: 0.3991\n",
      "Epoch 117/300, Train Loss: 93.5402, Train Acc: 0.4284, Val Loss: 21.3315, Val Acc: 0.3828\n",
      "Epoch 118/300, Train Loss: 92.0361, Train Acc: 0.4528, Val Loss: 20.5101, Val Acc: 0.4246\n",
      "Epoch 119/300, Train Loss: 91.4849, Train Acc: 0.4423, Val Loss: 20.5809, Val Acc: 0.4478\n",
      "Epoch 120/300, Train Loss: 93.5103, Train Acc: 0.4374, Val Loss: 21.7940, Val Acc: 0.4014\n",
      "Epoch 121/300, Train Loss: 92.0659, Train Acc: 0.4607, Val Loss: 20.6286, Val Acc: 0.4432\n",
      "Epoch 122/300, Train Loss: 90.8386, Train Acc: 0.4523, Val Loss: 20.2107, Val Acc: 0.4246\n",
      "Epoch 123/300, Train Loss: 91.6098, Train Acc: 0.4448, Val Loss: 20.6232, Val Acc: 0.4246\n",
      "Epoch 124/300, Train Loss: 91.3161, Train Acc: 0.4438, Val Loss: 20.5596, Val Acc: 0.4200\n",
      "Epoch 125/300, Train Loss: 90.6219, Train Acc: 0.4463, Val Loss: 20.5875, Val Acc: 0.4316\n",
      "Epoch 126/300, Train Loss: 91.3879, Train Acc: 0.4543, Val Loss: 20.4050, Val Acc: 0.4316\n",
      "Epoch 127/300, Train Loss: 90.5377, Train Acc: 0.4409, Val Loss: 20.4518, Val Acc: 0.4269\n",
      "Epoch 128/300, Train Loss: 91.7200, Train Acc: 0.4364, Val Loss: 20.6684, Val Acc: 0.4269\n",
      "Epoch 129/300, Train Loss: 92.4948, Train Acc: 0.4304, Val Loss: 20.6750, Val Acc: 0.3852\n",
      "Epoch 130/300, Train Loss: 94.9346, Train Acc: 0.4294, Val Loss: 20.6679, Val Acc: 0.4339\n",
      "Epoch 131/300, Train Loss: 91.9976, Train Acc: 0.4443, Val Loss: 22.1321, Val Acc: 0.4037\n",
      "Epoch 132/300, Train Loss: 89.8635, Train Acc: 0.4573, Val Loss: 20.3217, Val Acc: 0.4339\n",
      "Epoch 133/300, Train Loss: 90.4220, Train Acc: 0.4503, Val Loss: 20.6138, Val Acc: 0.4408\n",
      "Epoch 134/300, Train Loss: 88.4528, Train Acc: 0.4766, Val Loss: 20.6393, Val Acc: 0.4339\n",
      "Epoch 135/300, Train Loss: 90.9635, Train Acc: 0.4573, Val Loss: 20.3877, Val Acc: 0.4501\n",
      "Epoch 136/300, Train Loss: 88.7313, Train Acc: 0.4707, Val Loss: 20.0097, Val Acc: 0.4664\n",
      "Epoch 137/300, Train Loss: 87.4898, Train Acc: 0.4786, Val Loss: 20.4329, Val Acc: 0.4246\n",
      "Epoch 138/300, Train Loss: 91.6635, Train Acc: 0.4478, Val Loss: 19.9000, Val Acc: 0.4524\n",
      "Epoch 139/300, Train Loss: 89.1938, Train Acc: 0.4687, Val Loss: 20.0356, Val Acc: 0.4316\n",
      "Epoch 140/300, Train Loss: 88.0691, Train Acc: 0.4712, Val Loss: 20.2125, Val Acc: 0.4130\n",
      "Epoch 141/300, Train Loss: 91.5416, Train Acc: 0.4443, Val Loss: 20.5298, Val Acc: 0.4130\n",
      "Epoch 142/300, Train Loss: 91.3577, Train Acc: 0.4498, Val Loss: 20.6773, Val Acc: 0.4362\n",
      "Epoch 143/300, Train Loss: 89.2068, Train Acc: 0.4578, Val Loss: 20.3230, Val Acc: 0.4246\n",
      "Epoch 144/300, Train Loss: 88.1043, Train Acc: 0.4707, Val Loss: 19.9652, Val Acc: 0.4571\n",
      "Epoch 145/300, Train Loss: 86.6436, Train Acc: 0.4811, Val Loss: 19.6817, Val Acc: 0.4594\n",
      "Epoch 146/300, Train Loss: 86.8066, Train Acc: 0.4766, Val Loss: 20.1660, Val Acc: 0.4432\n",
      "Epoch 147/300, Train Loss: 86.0036, Train Acc: 0.4861, Val Loss: 19.7037, Val Acc: 0.4501\n",
      "Epoch 148/300, Train Loss: 87.2444, Train Acc: 0.4742, Val Loss: 19.7720, Val Acc: 0.4803\n",
      "Epoch 149/300, Train Loss: 86.6381, Train Acc: 0.4965, Val Loss: 21.1457, Val Acc: 0.4316\n",
      "Epoch 150/300, Train Loss: 86.0267, Train Acc: 0.4881, Val Loss: 19.6579, Val Acc: 0.4478\n",
      "Epoch 151/300, Train Loss: 85.0244, Train Acc: 0.5005, Val Loss: 19.9631, Val Acc: 0.4756\n",
      "Epoch 152/300, Train Loss: 85.3409, Train Acc: 0.5000, Val Loss: 20.8104, Val Acc: 0.4269\n",
      "Epoch 153/300, Train Loss: 86.7664, Train Acc: 0.4826, Val Loss: 19.9618, Val Acc: 0.4501\n"
     ]
    },
    {
     "ename": "KeyboardInterrupt",
     "evalue": "",
     "output_type": "error",
     "traceback": [
      "\u001b[1;31m---------------------------------------------------------------------------\u001b[0m",
      "\u001b[1;31mKeyboardInterrupt\u001b[0m                         Traceback (most recent call last)",
      "Cell \u001b[1;32mIn[23], line 3\u001b[0m\n\u001b[0;32m      1\u001b[0m \u001b[38;5;28;01mfrom\u001b[39;00m \u001b[38;5;21;01mutils\u001b[39;00m\u001b[38;5;21;01m.\u001b[39;00m\u001b[38;5;21;01mmodel_functions\u001b[39;00m \u001b[38;5;28;01mimport\u001b[39;00m train_torch_model\n\u001b[1;32m----> 3\u001b[0m \u001b[43mtrain_torch_model\u001b[49m\u001b[43m(\u001b[49m\u001b[43mmodel\u001b[49m\u001b[43m,\u001b[49m\u001b[43m \u001b[49m\u001b[43mcriterion\u001b[49m\u001b[43m,\u001b[49m\u001b[43m \u001b[49m\u001b[43moptimizer\u001b[49m\u001b[43m,\u001b[49m\u001b[43m \u001b[49m\u001b[43mX_train\u001b[49m\u001b[43m,\u001b[49m\u001b[43m \u001b[49m\u001b[43my_train\u001b[49m\u001b[43m,\u001b[49m\u001b[43m \u001b[49m\u001b[43mX_val\u001b[49m\u001b[43m,\u001b[49m\u001b[43m \u001b[49m\u001b[43my_val\u001b[49m\u001b[43m)\u001b[49m\n",
      "File \u001b[1;32mc:\\Users\\Bartosz\\Desktop\\automatic-lie-detection\\models\\utils\\model_functions\\train_model.py:46\u001b[0m, in \u001b[0;36mtrain_torch_model\u001b[1;34m(model, criterion, optimizer, X_train, y_train, X_val, y_val)\u001b[0m\n\u001b[0;32m     43\u001b[0m loss\u001b[38;5;241m.\u001b[39mbackward()\n\u001b[0;32m     44\u001b[0m optimizer\u001b[38;5;241m.\u001b[39mstep()\n\u001b[1;32m---> 46\u001b[0m train_loss \u001b[38;5;241m+\u001b[39m\u001b[38;5;241m=\u001b[39m \u001b[43mloss\u001b[49m\u001b[38;5;241;43m.\u001b[39;49m\u001b[43mitem\u001b[49m\u001b[43m(\u001b[49m\u001b[43m)\u001b[49m\n\u001b[0;32m     47\u001b[0m _, predicted \u001b[38;5;241m=\u001b[39m outputs\u001b[38;5;241m.\u001b[39mmax(\u001b[38;5;241m1\u001b[39m)\n\u001b[0;32m     48\u001b[0m correct \u001b[38;5;241m+\u001b[39m\u001b[38;5;241m=\u001b[39m predicted\u001b[38;5;241m.\u001b[39meq(y_batch)\u001b[38;5;241m.\u001b[39msum()\u001b[38;5;241m.\u001b[39mitem()\n",
      "\u001b[1;31mKeyboardInterrupt\u001b[0m: "
     ]
    }
   ],
   "source": [
    "from utils.model_functions import train_torch_model_multiclass\n",
    "\n",
    "train_torch_model_multiclass(model, criterion, optimizer, X_train, y_train, X_val, y_val, writer)"
   ]
  },
  {
   "cell_type": "markdown",
   "metadata": {},
   "source": [
    "## Ewaluacja modelu"
   ]
  },
  {
   "cell_type": "code",
   "execution_count": null,
   "metadata": {},
   "outputs": [
    {
     "name": "stdout",
     "output_type": "stream",
     "text": [
      "Test Loss: 0.0439, Test Accuracy: 0.4931\n"
     ]
    }
   ],
   "source": [
    "from utils.model_functions import eval_torch_model_multiclass\n",
    "\n",
    "eval_torch_model_multiclass(model, criterion, X_test, y_test)"
   ]
  }
 ],
 "metadata": {
  "kernelspec": {
   "display_name": "Python 3",
   "language": "python",
   "name": "python3"
  },
  "language_info": {
   "codemirror_mode": {
    "name": "ipython",
    "version": 3
   },
   "file_extension": ".py",
   "mimetype": "text/x-python",
   "name": "python",
   "nbconvert_exporter": "python",
   "pygments_lexer": "ipython3",
   "version": "3.12.10"
  }
 },
 "nbformat": 4,
 "nbformat_minor": 2
}
