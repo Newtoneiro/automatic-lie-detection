{
 "cells": [
  {
   "cell_type": "code",
   "execution_count": 1,
   "metadata": {},
   "outputs": [],
   "source": [
    "import sys\n",
    "import os\n",
    "\n",
    "sys.path.append(os.path.abspath('..'))"
   ]
  },
  {
   "cell_type": "code",
   "execution_count": 2,
   "metadata": {},
   "outputs": [
    {
     "name": "stdout",
     "output_type": "stream",
     "text": [
      "PyTorch version: 2.5.1+cu118\n",
      "**********\n",
      "_CUDA version: \n",
      "CUDA version:\n",
      "nvcc: NVIDIA (R) Cuda compiler driver\n",
      "Copyright (c) 2005-2024 NVIDIA Corporation\n",
      "Built on Wed_Oct_30_01:18:48_Pacific_Daylight_Time_2024\n",
      "Cuda compilation tools, release 12.6, V12.6.85\n",
      "Build cuda_12.6.r12.6/compiler.35059454_0\n",
      "\n",
      "**********\n",
      "CUDNN version: 90100\n",
      "Available GPU devices: 1\n",
      "Device Name: NVIDIA GeForce RTX 4070 Ti SUPER\n"
     ]
    }
   ],
   "source": [
    "from utils import get_cuda_info\n",
    "\n",
    "get_cuda_info()"
   ]
  },
  {
   "cell_type": "markdown",
   "metadata": {},
   "source": [
    "## Wybór optymalnych punktów charakterystycznych"
   ]
  },
  {
   "cell_type": "code",
   "execution_count": 3,
   "metadata": {},
   "outputs": [],
   "source": [
    "import numpy as np\n",
    "\n",
    "LANDMARK_INDEXES = np.load(os.path.join('..', '..', 'data', 'landmarks', 'combined_selected_points.npy'))\n",
    "REFERENCE_POINT_IDX = 0"
   ]
  },
  {
   "cell_type": "markdown",
   "metadata": {},
   "source": [
    "### Wizualizacja wybranych punktów"
   ]
  },
  {
   "cell_type": "code",
   "execution_count": 4,
   "metadata": {},
   "outputs": [
    {
     "data": {
      "image/png": "[encoded data removed]",
      "text/plain": [
       "<Figure size 600x600 with 1 Axes>"
      ]
     },
     "metadata": {},
     "output_type": "display_data"
    }
   ],
   "source": [
    "from utils import visualize_landmarks\n",
    "\n",
    "visualize_landmarks(LANDMARK_INDEXES)\n"
   ]
  },
  {
   "cell_type": "markdown",
   "metadata": {},
   "source": [
    "### Zdobycie danych"
   ]
  },
  {
   "cell_type": "code",
   "execution_count": 5,
   "metadata": {},
   "outputs": [],
   "source": [
    "from utils import load_data, convert_landmarks_to_distances\n",
    "\n",
    "all_data, all_labels = load_data('ravdess')\n",
    "all_data = convert_landmarks_to_distances(all_data, LANDMARK_INDEXES, REFERENCE_POINT_IDX, normalize=True)"
   ]
  },
  {
   "cell_type": "markdown",
   "metadata": {},
   "source": [
    "## Preprocessing danych"
   ]
  },
  {
   "cell_type": "code",
   "execution_count": null,
   "metadata": {},
   "outputs": [],
   "source": [
    "from utils import preprocess_data\n",
    "\n",
    "X_train, X_val, X_test, y_train, y_val, y_test = preprocess_data(all_data, all_labels)"
   ]
  },
  {
   "cell_type": "code",
   "execution_count": 8,
   "metadata": {},
   "outputs": [
    {
     "name": "stdout",
     "output_type": "stream",
     "text": [
      "torch.Size([2012, 157, 154])\n",
      "torch.Size([2012, 8])\n"
     ]
    }
   ],
   "source": [
    "print(X_train.shape)\n",
    "print(y_train.shape)"
   ]
  },
  {
   "cell_type": "markdown",
   "metadata": {},
   "source": [
    "# MODEL TORCH"
   ]
  },
  {
   "cell_type": "markdown",
   "metadata": {},
   "source": [
    "### W podejściu wykorzystane zostaną 2 modele - pierwszy z nich będzie siecią konwolucyjną 2d, która będzie miała za zadanie nauczyć się rozpoznawać cechy charakterystyczne dla wybranej klatki (zbioru współrzędnych pkt charakterystycznych). Do klasyfikacji szeregu czasowego zostanie wykorzystana sekwencyjna sieć neuronowa LSTM."
   ]
  },
  {
   "cell_type": "markdown",
   "metadata": {},
   "source": [
    "## Zbudowanie modelu ekstrakcji cech"
   ]
  },
  {
   "cell_type": "code",
   "execution_count": null,
   "metadata": {},
   "outputs": [],
   "source": [
    "import torch.nn as nn\n",
    "import torch.nn.functional as F"
   ]
  },
  {
   "cell_type": "code",
   "execution_count": null,
   "metadata": {},
   "outputs": [],
   "source": [
    "class EmotionClassifier(nn.Module):\n",
    "    def __init__(self, number_landmarks=LANDMARK_INDEXES.size):\n",
    "        super(EmotionClassifier, self).__init__()\n",
    "\n",
    "        self.number_landmarks = number_landmarks\n",
    "        \n",
    "        # Spatial feature extraction using Conv1D\n",
    "        self.conv1 = nn.Conv1d(in_channels=1, out_channels=32, kernel_size=3, padding=1)  # in_channels=1 for distances\n",
    "        self.pool1 = nn.MaxPool1d(kernel_size=2)\n",
    "        \n",
    "        # Calculate the number of features after Conv1D and pooling\n",
    "        # Conv1D output: (batch_size * frames, 32, number_landmarks)\n",
    "        # Pool1D output: (batch_size * frames, 32, number_landmarks // 2)\n",
    "        self.flattened_features = 32 * (number_landmarks // 2)\n",
    "        \n",
    "        # LSTM layers for temporal feature extraction\n",
    "        self.lstm1 = nn.LSTM(input_size=self.flattened_features, hidden_size=128, batch_first=True, bidirectional=True)\n",
    "        self.lstm2 = nn.LSTM(input_size=128 * 2, hidden_size=64, batch_first=True)\n",
    "        \n",
    "        # Fully connected classification layer\n",
    "        self.fc = nn.Linear(64, 8)  # 8 emotion classes\n",
    "\n",
    "    def forward(self, x):\n",
    "        # x shape: (batch_size, frames, number_landmarks)\n",
    "        batch_size, frames, landmarks = x.shape\n",
    "        \n",
    "        # Reshape for Conv1D: (batch_size * frames, 1, landmarks)\n",
    "        x = x.view(-1, landmarks).unsqueeze(1)  # Shape: (batch_size * frames, 1, number_landmarks)\n",
    "        \n",
    "        # Spatial feature extraction\n",
    "        x = F.relu(self.conv1(x))  # Shape: (batch_size * frames, 32, number_landmarks)\n",
    "        x = self.pool1(x)          # Shape: (batch_size * frames, 32, number_landmarks // 2)\n",
    "        \n",
    "        # Flatten spatial features\n",
    "        x = x.view(batch_size, frames, -1)  # Shape: (batch_size, frames, 32 * (number_landmarks // 2))\n",
    "        \n",
    "        # Temporal feature extraction\n",
    "        x, _ = self.lstm1(x)  # Shape: (batch_size, frames, 128 * 2)\n",
    "        x, _ = self.lstm2(x)  # Shape: (batch_size, frames, 64)\n",
    "        \n",
    "        # Classification\n",
    "        x = self.fc(x[:, -1, :])  # Take the last timestep's output; Shape: (batch_size, 8)\n",
    "        return x"
   ]
  },
  {
   "cell_type": "code",
   "execution_count": 19,
   "metadata": {},
   "outputs": [],
   "source": [
    "from torch.optim import Adam\n",
    "\n",
    "model = EmotionClassifier()\n",
    "criterion = nn.CrossEntropyLoss()\n",
    "optimizer = Adam(model.parameters(), lr=1e-4)"
   ]
  },
  {
   "cell_type": "markdown",
   "metadata": {},
   "source": [
    "## Trening modelu"
   ]
  },
  {
   "cell_type": "code",
   "execution_count": null,
   "metadata": {},
   "outputs": [],
   "source": [
    "from torch.utils.tensorboard import SummaryWriter\n",
    "\n",
    "RUNS_FOLDER_PATH = os.path.abspath('runs')\n",
    "writer_path = os.path.join('runs', 'torch_lstm', 'emotion_classifier_landmark_distance_normalized')\n",
    "writer = SummaryWriter(writer_path)"
   ]
  },
  {
   "cell_type": "code",
   "execution_count": null,
   "metadata": {},
   "outputs": [
    {
     "name": "stdout",
     "output_type": "stream",
     "text": [
      "Epoch 1/300, Train Loss: 130.3990, Train Acc: 0.1163, Val Loss: 28.8660, Val Acc: 0.1253\n",
      "Epoch 2/300, Train Loss: 130.2130, Train Acc: 0.1228, Val Loss: 28.8656, Val Acc: 0.1369\n",
      "Epoch 3/300, Train Loss: 130.0731, Train Acc: 0.1292, Val Loss: 28.8575, Val Acc: 0.1276\n",
      "Epoch 4/300, Train Loss: 130.0769, Train Acc: 0.1342, Val Loss: 28.8621, Val Acc: 0.1276\n",
      "Epoch 5/300, Train Loss: 130.0955, Train Acc: 0.1317, Val Loss: 28.8730, Val Acc: 0.1276\n",
      "Epoch 6/300, Train Loss: 130.0726, Train Acc: 0.1347, Val Loss: 28.8638, Val Acc: 0.1323\n",
      "Epoch 7/300, Train Loss: 130.0215, Train Acc: 0.1243, Val Loss: 28.8596, Val Acc: 0.1276\n",
      "Epoch 8/300, Train Loss: 130.0310, Train Acc: 0.1302, Val Loss: 28.8648, Val Acc: 0.1276\n",
      "Epoch 9/300, Train Loss: 130.0468, Train Acc: 0.1387, Val Loss: 28.8616, Val Acc: 0.1276\n",
      "Epoch 10/300, Train Loss: 130.0321, Train Acc: 0.1287, Val Loss: 28.8663, Val Acc: 0.1276\n",
      "Epoch 11/300, Train Loss: 130.0624, Train Acc: 0.1208, Val Loss: 28.8605, Val Acc: 0.1276\n",
      "Epoch 12/300, Train Loss: 130.0148, Train Acc: 0.1387, Val Loss: 28.8630, Val Acc: 0.1276\n",
      "Epoch 13/300, Train Loss: 130.0352, Train Acc: 0.1312, Val Loss: 28.8520, Val Acc: 0.1462\n",
      "Epoch 14/300, Train Loss: 129.8940, Train Acc: 0.1367, Val Loss: 28.7825, Val Acc: 0.1856\n",
      "Epoch 15/300, Train Loss: 128.9732, Train Acc: 0.1779, Val Loss: 28.2979, Val Acc: 0.1903\n",
      "Epoch 16/300, Train Loss: 126.8603, Train Acc: 0.1814, Val Loss: 28.1774, Val Acc: 0.1926\n",
      "Epoch 17/300, Train Loss: 125.2617, Train Acc: 0.2003, Val Loss: 27.4283, Val Acc: 0.1810\n",
      "Epoch 18/300, Train Loss: 123.9956, Train Acc: 0.2028, Val Loss: 27.3786, Val Acc: 0.1763\n",
      "Epoch 19/300, Train Loss: 123.4689, Train Acc: 0.2107, Val Loss: 27.5130, Val Acc: 0.1810\n",
      "Epoch 20/300, Train Loss: 123.2025, Train Acc: 0.1968, Val Loss: 27.3231, Val Acc: 0.1810\n",
      "Epoch 21/300, Train Loss: 122.5940, Train Acc: 0.2182, Val Loss: 27.2739, Val Acc: 0.1903\n",
      "Epoch 22/300, Train Loss: 122.8888, Train Acc: 0.2092, Val Loss: 27.2904, Val Acc: 0.1763\n",
      "Epoch 23/300, Train Loss: 122.6222, Train Acc: 0.2038, Val Loss: 27.3311, Val Acc: 0.1995\n",
      "Epoch 24/300, Train Loss: 122.4575, Train Acc: 0.2112, Val Loss: 27.3302, Val Acc: 0.1833\n",
      "Epoch 25/300, Train Loss: 122.5992, Train Acc: 0.2167, Val Loss: 27.2712, Val Acc: 0.1879\n",
      "Epoch 26/300, Train Loss: 122.4642, Train Acc: 0.2083, Val Loss: 27.2135, Val Acc: 0.1995\n",
      "Epoch 27/300, Train Loss: 122.4901, Train Acc: 0.2187, Val Loss: 27.3022, Val Acc: 0.2042\n",
      "Epoch 28/300, Train Loss: 122.3618, Train Acc: 0.2058, Val Loss: 27.2655, Val Acc: 0.1810\n",
      "Epoch 29/300, Train Loss: 122.4996, Train Acc: 0.2102, Val Loss: 27.3107, Val Acc: 0.2042\n",
      "Epoch 30/300, Train Loss: 122.1850, Train Acc: 0.2182, Val Loss: 27.2263, Val Acc: 0.1949\n",
      "Epoch 31/300, Train Loss: 122.2675, Train Acc: 0.2147, Val Loss: 27.2628, Val Acc: 0.2088\n",
      "Epoch 32/300, Train Loss: 122.1097, Train Acc: 0.2217, Val Loss: 27.2371, Val Acc: 0.2111\n",
      "Epoch 33/300, Train Loss: 121.9235, Train Acc: 0.2232, Val Loss: 27.2497, Val Acc: 0.1903\n",
      "Epoch 34/300, Train Loss: 122.2430, Train Acc: 0.2202, Val Loss: 27.2099, Val Acc: 0.2088\n",
      "Epoch 35/300, Train Loss: 121.8840, Train Acc: 0.2227, Val Loss: 27.1439, Val Acc: 0.2019\n",
      "Epoch 36/300, Train Loss: 122.2685, Train Acc: 0.2132, Val Loss: 27.1917, Val Acc: 0.1972\n",
      "Epoch 37/300, Train Loss: 122.0776, Train Acc: 0.2202, Val Loss: 27.2049, Val Acc: 0.1972\n",
      "Epoch 38/300, Train Loss: 121.8027, Train Acc: 0.2137, Val Loss: 27.0703, Val Acc: 0.2042\n",
      "Epoch 39/300, Train Loss: 121.5950, Train Acc: 0.2117, Val Loss: 26.9691, Val Acc: 0.2065\n",
      "Epoch 40/300, Train Loss: 121.4092, Train Acc: 0.2127, Val Loss: 26.9967, Val Acc: 0.2088\n",
      "Epoch 41/300, Train Loss: 121.3577, Train Acc: 0.2227, Val Loss: 26.8752, Val Acc: 0.2088\n",
      "Epoch 42/300, Train Loss: 121.0373, Train Acc: 0.2381, Val Loss: 26.8804, Val Acc: 0.2088\n",
      "Epoch 43/300, Train Loss: 120.1865, Train Acc: 0.2425, Val Loss: 26.5606, Val Acc: 0.2227\n",
      "Epoch 44/300, Train Loss: 120.1769, Train Acc: 0.2411, Val Loss: 26.6227, Val Acc: 0.2251\n",
      "Epoch 45/300, Train Loss: 118.7214, Train Acc: 0.2520, Val Loss: 26.4652, Val Acc: 0.2390\n",
      "Epoch 46/300, Train Loss: 117.5711, Train Acc: 0.2639, Val Loss: 26.4665, Val Acc: 0.2459\n",
      "Epoch 47/300, Train Loss: 118.3984, Train Acc: 0.2550, Val Loss: 26.3720, Val Acc: 0.2575\n",
      "Epoch 48/300, Train Loss: 117.4726, Train Acc: 0.2664, Val Loss: 26.3873, Val Acc: 0.2413\n",
      "Epoch 49/300, Train Loss: 117.7535, Train Acc: 0.2634, Val Loss: 26.5545, Val Acc: 0.2343\n",
      "Epoch 50/300, Train Loss: 117.1806, Train Acc: 0.2639, Val Loss: 26.3106, Val Acc: 0.2622\n",
      "Epoch 51/300, Train Loss: 117.0446, Train Acc: 0.2699, Val Loss: 26.6406, Val Acc: 0.2343\n",
      "Epoch 52/300, Train Loss: 116.4847, Train Acc: 0.2753, Val Loss: 26.1203, Val Acc: 0.2599\n",
      "Epoch 53/300, Train Loss: 116.3810, Train Acc: 0.2734, Val Loss: 26.1972, Val Acc: 0.2622\n",
      "Epoch 54/300, Train Loss: 116.3260, Train Acc: 0.2664, Val Loss: 26.1634, Val Acc: 0.2854\n",
      "Epoch 55/300, Train Loss: 116.0438, Train Acc: 0.2679, Val Loss: 26.1159, Val Acc: 0.2599\n",
      "Epoch 56/300, Train Loss: 115.7541, Train Acc: 0.2788, Val Loss: 26.3814, Val Acc: 0.2529\n",
      "Epoch 57/300, Train Loss: 116.3438, Train Acc: 0.2629, Val Loss: 26.1580, Val Acc: 0.2575\n",
      "Epoch 58/300, Train Loss: 115.5520, Train Acc: 0.2788, Val Loss: 26.1127, Val Acc: 0.2645\n",
      "Epoch 59/300, Train Loss: 115.9364, Train Acc: 0.2793, Val Loss: 26.0003, Val Acc: 0.2691\n",
      "Epoch 60/300, Train Loss: 115.4926, Train Acc: 0.2768, Val Loss: 26.7110, Val Acc: 0.2483\n",
      "Epoch 61/300, Train Loss: 115.9569, Train Acc: 0.2828, Val Loss: 26.0755, Val Acc: 0.2668\n",
      "Epoch 62/300, Train Loss: 115.3791, Train Acc: 0.2704, Val Loss: 26.0267, Val Acc: 0.2529\n",
      "Epoch 63/300, Train Loss: 115.0305, Train Acc: 0.2729, Val Loss: 26.1016, Val Acc: 0.2599\n",
      "Epoch 64/300, Train Loss: 114.9113, Train Acc: 0.2749, Val Loss: 25.9593, Val Acc: 0.2622\n",
      "Epoch 65/300, Train Loss: 115.4009, Train Acc: 0.2679, Val Loss: 26.0211, Val Acc: 0.2575\n",
      "Epoch 66/300, Train Loss: 115.7313, Train Acc: 0.2674, Val Loss: 25.9985, Val Acc: 0.2645\n",
      "Epoch 67/300, Train Loss: 114.8571, Train Acc: 0.2823, Val Loss: 25.8541, Val Acc: 0.2761\n",
      "Epoch 68/300, Train Loss: 114.6093, Train Acc: 0.2793, Val Loss: 25.9075, Val Acc: 0.2668\n"
     ]
    },
    {
     "ename": "KeyboardInterrupt",
     "evalue": "",
     "output_type": "error",
     "traceback": [
      "\u001b[1;31m---------------------------------------------------------------------------\u001b[0m",
      "\u001b[1;31mKeyboardInterrupt\u001b[0m                         Traceback (most recent call last)",
      "Cell \u001b[1;32mIn[20], line 3\u001b[0m\n\u001b[0;32m      1\u001b[0m \u001b[38;5;28;01mfrom\u001b[39;00m \u001b[38;5;21;01mutils\u001b[39;00m\u001b[38;5;21;01m.\u001b[39;00m\u001b[38;5;21;01mmodel_functions\u001b[39;00m \u001b[38;5;28;01mimport\u001b[39;00m train_torch_model\n\u001b[1;32m----> 3\u001b[0m \u001b[43mtrain_torch_model\u001b[49m\u001b[43m(\u001b[49m\u001b[43mmodel\u001b[49m\u001b[43m,\u001b[49m\u001b[43m \u001b[49m\u001b[43mcriterion\u001b[49m\u001b[43m,\u001b[49m\u001b[43m \u001b[49m\u001b[43moptimizer\u001b[49m\u001b[43m,\u001b[49m\u001b[43m \u001b[49m\u001b[43mX_train\u001b[49m\u001b[43m,\u001b[49m\u001b[43m \u001b[49m\u001b[43my_train\u001b[49m\u001b[43m,\u001b[49m\u001b[43m \u001b[49m\u001b[43mX_val\u001b[49m\u001b[43m,\u001b[49m\u001b[43m \u001b[49m\u001b[43my_val\u001b[49m\u001b[43m)\u001b[49m\n",
      "File \u001b[1;32mc:\\Users\\Bartosz\\Desktop\\automatic-lie-detection\\models\\utils\\model_functions\\train_model.py:34\u001b[0m, in \u001b[0;36mtrain_torch_model\u001b[1;34m(model, criterion, optimizer, X_train, y_train, X_val, y_val)\u001b[0m\n\u001b[0;32m     31\u001b[0m total \u001b[38;5;241m=\u001b[39m \u001b[38;5;241m0\u001b[39m\n\u001b[0;32m     33\u001b[0m \u001b[38;5;28;01mfor\u001b[39;00m X_batch, y_batch \u001b[38;5;129;01min\u001b[39;00m train_loader:\n\u001b[1;32m---> 34\u001b[0m     X_batch, y_batch \u001b[38;5;241m=\u001b[39m \u001b[43mX_batch\u001b[49m\u001b[38;5;241;43m.\u001b[39;49m\u001b[43mto\u001b[49m\u001b[43m(\u001b[49m\u001b[43mdevice\u001b[49m\u001b[43m)\u001b[49m, y_batch\u001b[38;5;241m.\u001b[39mto(device)\n\u001b[0;32m     35\u001b[0m     y_batch \u001b[38;5;241m=\u001b[39m y_batch\u001b[38;5;241m.\u001b[39margmax(dim\u001b[38;5;241m=\u001b[39m\u001b[38;5;241m1\u001b[39m)\n\u001b[0;32m     37\u001b[0m     \u001b[38;5;66;03m# Forward pass\u001b[39;00m\n",
      "\u001b[1;31mKeyboardInterrupt\u001b[0m: "
     ]
    }
   ],
   "source": [
    "from utils.model_functions import train_torch_model_multiclass\n",
    "\n",
    "train_torch_model_multiclass(model, criterion, optimizer, X_train, y_train, X_val, y_val, writer)"
   ]
  },
  {
   "cell_type": "markdown",
   "metadata": {},
   "source": [
    "## Ewaluacja modelu"
   ]
  },
  {
   "cell_type": "code",
   "execution_count": null,
   "metadata": {},
   "outputs": [
    {
     "name": "stdout",
     "output_type": "stream",
     "text": [
      "Test Loss: 0.0589, Test Accuracy: 0.2847\n"
     ]
    }
   ],
   "source": [
    "from utils.model_functions import eval_torch_model_multiclass\n",
    "\n",
    "eval_torch_model_multiclass(model, criterion, X_test, y_test)"
   ]
  }
 ],
 "metadata": {
  "kernelspec": {
   "display_name": "Python 3",
   "language": "python",
   "name": "python3"
  },
  "language_info": {
   "codemirror_mode": {
    "name": "ipython",
    "version": 3
   },
   "file_extension": ".py",
   "mimetype": "text/x-python",
   "name": "python",
   "nbconvert_exporter": "python",
   "pygments_lexer": "ipython3",
   "version": "3.12.9"
  }
 },
 "nbformat": 4,
 "nbformat_minor": 2
}
