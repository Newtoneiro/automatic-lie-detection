{
 "cells": [
  {
   "cell_type": "code",
   "execution_count": null,
   "metadata": {},
   "outputs": [],
   "source": [
    "import os\n",
    "import numpy as np\n",
    "import torch\n",
    "import torch.nn as nn\n",
    "import torch.nn.functional as F\n",
    "from torch.utils.tensorboard import SummaryWriter\n",
    "from torch.optim import Adam\n",
    "from sklearn.model_selection import train_test_split\n",
    "from sklearn.preprocessing import LabelBinarizer\n",
    "from torch.nn.utils.rnn import pad_sequence\n",
    "from torch.utils.data import DataLoader, TensorDataset"
   ]
  },
  {
   "cell_type": "code",
   "execution_count": 2,
   "metadata": {},
   "outputs": [
    {
     "name": "stdout",
     "output_type": "stream",
     "text": [
      "PyTorch version: 2.5.1+cu118\n",
      "**********\n",
      "_CUDA version: \n",
      "nvcc: NVIDIA (R) Cuda compiler driver\n",
      "Copyright (c) 2005-2024 NVIDIA Corporation\n",
      "Built on Wed_Oct_30_01:18:48_Pacific_Daylight_Time_2024\n",
      "Cuda compilation tools, release 12.6, V12.6.85\n",
      "Build cuda_12.6.r12.6/compiler.35059454_0\n",
      "**********\n",
      "CUDNN version: 90100\n",
      "Available GPU devices: 1\n",
      "Device Name: NVIDIA GeForce RTX 4070 Ti SUPER\n"
     ]
    }
   ],
   "source": [
    "print(f'PyTorch version: {torch.__version__}')\n",
    "print('*'*10)\n",
    "print(f'_CUDA version: ')\n",
    "!nvcc --version\n",
    "print('*'*10)\n",
    "print(f'CUDNN version: {torch.backends.cudnn.version()}')\n",
    "print(f'Available GPU devices: {torch.cuda.device_count()}')\n",
    "print(f'Device Name: {torch.cuda.get_device_name()}')"
   ]
  },
  {
   "cell_type": "markdown",
   "metadata": {},
   "source": [
    "## Zdobycie danych"
   ]
  },
  {
   "cell_type": "code",
   "execution_count": 3,
   "metadata": {},
   "outputs": [],
   "source": [
    "DATA_PATH = os.path.abspath(os.path.join('..', 'data', 'processed', 'ravdess'))"
   ]
  },
  {
   "cell_type": "code",
   "execution_count": 4,
   "metadata": {},
   "outputs": [],
   "source": [
    "LANDMARK_INDEXES = [\n",
    "    76, 306,  # mouth corners\n",
    "    74, 73, 72, 11, 302, 303, 304, # upper lip\n",
    "    90, 180, 85, 16, 315, 404, 320, # lower lip\n",
    "    33, 161, 159, 157, 133, 154, 145, 163,  # left eye\n",
    "    70, 63, 105, 66, 107,  # left eyebrow\n",
    "    362, 384, 386, 388, 263, 390, 374, 381,  # right eye\n",
    "    300, 293, 334, 296, 336,  # right eyebrow\n",
    "    1, 5, 197, 168  # nose\n",
    "]"
   ]
  },
  {
   "cell_type": "code",
   "execution_count": 13,
   "metadata": {},
   "outputs": [],
   "source": [
    "def load_data(data_path):\n",
    "    all_data = []\n",
    "    all_labels = []\n",
    "\n",
    "    for file in os.listdir(data_path):\n",
    "        if file.endswith(\".npy\"):\n",
    "            data = np.load(os.path.join(data_path, file), allow_pickle=True)\n",
    "            data = np.array(data, dtype=np.float32)\n",
    "            selected_data = data[:, LANDMARK_INDEXES, :]\n",
    "\n",
    "            all_data.append(selected_data)\n",
    "\n",
    "            label = int(file.split(\"-\")[2])\n",
    "            all_labels.append(label)\n",
    "\n",
    "    return np.array(all_data, dtype=object), np.array(all_labels)"
   ]
  },
  {
   "cell_type": "code",
   "execution_count": 14,
   "metadata": {},
   "outputs": [],
   "source": [
    "all_data, all_labels = load_data(DATA_PATH)"
   ]
  },
  {
   "cell_type": "markdown",
   "metadata": {},
   "source": [
    "## Preprocessing danych"
   ]
  },
  {
   "cell_type": "code",
   "execution_count": 15,
   "metadata": {},
   "outputs": [],
   "source": [
    "def preprocess_data(data, labels):\n",
    "    tensor_data = [torch.tensor(d, dtype=torch.float32) for d in data]\n",
    "    padded_data = pad_sequence(tensor_data, batch_first=True)\n",
    "\n",
    "    encoder = LabelBinarizer()\n",
    "    encoded_labels = encoder.fit_transform(labels)\n",
    "    encoded_labels = torch.tensor(encoded_labels, dtype=torch.float32)\n",
    "\n",
    "    X_train, X_temp, y_train, y_temp = train_test_split(\n",
    "        padded_data, encoded_labels, test_size=0.3, random_state=42\n",
    "    )\n",
    "    X_val, X_test, y_val, y_test = train_test_split(\n",
    "        X_temp, y_temp, test_size=0.5, random_state=42\n",
    "    )\n",
    "\n",
    "    return X_train, X_val, X_test, y_train, y_val, y_test"
   ]
  },
  {
   "cell_type": "code",
   "execution_count": 16,
   "metadata": {},
   "outputs": [],
   "source": [
    "X_train, X_val, X_test, y_train, y_val, y_test = preprocess_data(all_data, all_labels)"
   ]
  },
  {
   "cell_type": "code",
   "execution_count": 17,
   "metadata": {},
   "outputs": [
    {
     "name": "stdout",
     "output_type": "stream",
     "text": [
      "torch.Size([2012, 157, 46, 2])\n",
      "torch.Size([2012, 8])\n"
     ]
    }
   ],
   "source": [
    "print(X_train.shape)\n",
    "print(y_train.shape)"
   ]
  },
  {
   "cell_type": "markdown",
   "metadata": {},
   "source": [
    "# MODEL TORCH"
   ]
  },
  {
   "cell_type": "markdown",
   "metadata": {},
   "source": [
    "### W podejściu wykorzystane zostaną 2 modele - pierwszy z nich będzie siecią konwolucyjną 2d, która będzie miała za zadanie nauczyć się rozpoznawać cechy charakterystyczne dla wybranej klatki (zbioru współrzędnych pkt charakterystycznych). Do klasyfikacji szeregu czasowego zostanie wykorzystana sekwencyjna sieć neuronowa LSTM."
   ]
  },
  {
   "cell_type": "markdown",
   "metadata": {},
   "source": [
    "## Zbudowanie modelu ekstrakcji cech"
   ]
  },
  {
   "cell_type": "code",
   "execution_count": 31,
   "metadata": {},
   "outputs": [],
   "source": [
    "class EmotionClassifier(nn.Module):\n",
    "    def __init__(self):\n",
    "        super(EmotionClassifier, self).__init__()\n",
    "        \n",
    "        # Spatial feature extraction using Conv1D\n",
    "        self.conv1 = nn.Conv1d(in_channels=2, out_channels=32, kernel_size=3, padding=1)\n",
    "        self.pool1 = nn.MaxPool1d(kernel_size=2)\n",
    "        \n",
    "        # LSTM layers for temporal feature extraction\n",
    "        self.lstm1 = nn.LSTM(input_size=736, hidden_size=128, batch_first=True, bidirectional=True)\n",
    "        self.lstm2 = nn.LSTM(input_size=128 * 2, hidden_size=64, batch_first=True)\n",
    "        \n",
    "        # Fully connected classification layer\n",
    "        self.fc = nn.Linear(64, 8)  # 8 emotion classes\n",
    "\n",
    "    def forward(self, x):\n",
    "        # x shape: (batch_size, frames, landmarks, coordinates)\n",
    "        batch_size, frames, landmarks, coordinates = x.shape\n",
    "        \n",
    "        # Reshape for Conv1D: (batch_size * frames, landmarks, coordinates)\n",
    "        x = x.view(-1, landmarks, coordinates).permute(0, 2, 1)\n",
    "        \n",
    "        # Spatial feature extraction\n",
    "        x = F.relu(self.conv1(x))\n",
    "        x = self.pool1(x)\n",
    "        \n",
    "        # Flatten spatial features\n",
    "        x = x.view(batch_size, frames, -1)  # (batch_size, frames, features)\n",
    "        \n",
    "        # Temporal feature extraction\n",
    "        x, _ = self.lstm1(x)\n",
    "        x, _ = self.lstm2(x)\n",
    "        \n",
    "        # Classification\n",
    "        x = self.fc(x[:, -1, :])  # Take the last timestep's output\n",
    "        return x"
   ]
  },
  {
   "cell_type": "code",
   "execution_count": 32,
   "metadata": {},
   "outputs": [],
   "source": [
    "device = torch.device('cuda' if torch.cuda.is_available() else 'cpu')\n",
    "model = EmotionClassifier().to(device)\n",
    "criterion = nn.CrossEntropyLoss()\n",
    "optimizer = Adam(model.parameters(), lr=1e-4)"
   ]
  },
  {
   "cell_type": "markdown",
   "metadata": {},
   "source": [
    "## Trening modelu"
   ]
  },
  {
   "cell_type": "code",
   "execution_count": 28,
   "metadata": {},
   "outputs": [],
   "source": [
    "BATCH_SIZE = 32\n",
    "EPOCHS = 200"
   ]
  },
  {
   "cell_type": "code",
   "execution_count": 29,
   "metadata": {},
   "outputs": [],
   "source": [
    "train_dataset = TensorDataset(X_train, y_train)\n",
    "val_dataset = TensorDataset(X_val, y_val)\n",
    "train_loader = DataLoader(train_dataset, batch_size=BATCH_SIZE, shuffle=True)\n",
    "val_loader = DataLoader(val_dataset, batch_size=BATCH_SIZE, shuffle=False)"
   ]
  },
  {
   "cell_type": "code",
   "execution_count": 33,
   "metadata": {},
   "outputs": [
    {
     "name": "stdout",
     "output_type": "stream",
     "text": [
      "Epoch 1/200, Train Loss: 130.7134, Train Acc: 0.1252, Val Loss: 28.8871, Val Acc: 0.1369\n",
      "Epoch 2/200, Train Loss: 130.1443, Train Acc: 0.1267, Val Loss: 28.8595, Val Acc: 0.1462\n",
      "Epoch 3/200, Train Loss: 130.1261, Train Acc: 0.1367, Val Loss: 28.8652, Val Acc: 0.1323\n",
      "Epoch 4/200, Train Loss: 130.0779, Train Acc: 0.1252, Val Loss: 28.8527, Val Acc: 0.1462\n",
      "Epoch 5/200, Train Loss: 130.0493, Train Acc: 0.1233, Val Loss: 28.8517, Val Acc: 0.1462\n",
      "Epoch 6/200, Train Loss: 130.0581, Train Acc: 0.1238, Val Loss: 28.8628, Val Acc: 0.1276\n",
      "Epoch 7/200, Train Loss: 130.0266, Train Acc: 0.1282, Val Loss: 28.8595, Val Acc: 0.1369\n",
      "Epoch 8/200, Train Loss: 130.0581, Train Acc: 0.1342, Val Loss: 28.8642, Val Acc: 0.1276\n",
      "Epoch 9/200, Train Loss: 130.0666, Train Acc: 0.1292, Val Loss: 28.8689, Val Acc: 0.1369\n",
      "Epoch 10/200, Train Loss: 130.0298, Train Acc: 0.1282, Val Loss: 28.8584, Val Acc: 0.1276\n",
      "Epoch 11/200, Train Loss: 130.0444, Train Acc: 0.1327, Val Loss: 28.8634, Val Acc: 0.1276\n",
      "Epoch 12/200, Train Loss: 130.0307, Train Acc: 0.1272, Val Loss: 28.8640, Val Acc: 0.1369\n",
      "Epoch 13/200, Train Loss: 130.0197, Train Acc: 0.1337, Val Loss: 28.8596, Val Acc: 0.1276\n",
      "Epoch 14/200, Train Loss: 129.9989, Train Acc: 0.1277, Val Loss: 28.8554, Val Acc: 0.1369\n",
      "Epoch 15/200, Train Loss: 130.0208, Train Acc: 0.1357, Val Loss: 28.8583, Val Acc: 0.1276\n",
      "Epoch 16/200, Train Loss: 130.0414, Train Acc: 0.1347, Val Loss: 28.8601, Val Acc: 0.1276\n",
      "Epoch 17/200, Train Loss: 130.0089, Train Acc: 0.1387, Val Loss: 28.8565, Val Acc: 0.1276\n",
      "Epoch 18/200, Train Loss: 129.9891, Train Acc: 0.1257, Val Loss: 28.8545, Val Acc: 0.1276\n",
      "Epoch 19/200, Train Loss: 130.0027, Train Acc: 0.1347, Val Loss: 28.8567, Val Acc: 0.1369\n",
      "Epoch 20/200, Train Loss: 130.0085, Train Acc: 0.1357, Val Loss: 28.8619, Val Acc: 0.1276\n",
      "Epoch 21/200, Train Loss: 129.9807, Train Acc: 0.1387, Val Loss: 28.8604, Val Acc: 0.1276\n",
      "Epoch 22/200, Train Loss: 130.0106, Train Acc: 0.1312, Val Loss: 28.8581, Val Acc: 0.1276\n",
      "Epoch 23/200, Train Loss: 130.0077, Train Acc: 0.1262, Val Loss: 28.8545, Val Acc: 0.1276\n",
      "Epoch 24/200, Train Loss: 129.8011, Train Acc: 0.1556, Val Loss: 28.7633, Val Acc: 0.1810\n",
      "Epoch 25/200, Train Loss: 128.3902, Train Acc: 0.1879, Val Loss: 28.1906, Val Acc: 0.1763\n",
      "Epoch 26/200, Train Loss: 124.8732, Train Acc: 0.2048, Val Loss: 27.6430, Val Acc: 0.1995\n",
      "Epoch 27/200, Train Loss: 123.5526, Train Acc: 0.2038, Val Loss: 27.2873, Val Acc: 0.1810\n",
      "Epoch 28/200, Train Loss: 122.9744, Train Acc: 0.2162, Val Loss: 27.3766, Val Acc: 0.1879\n",
      "Epoch 29/200, Train Loss: 122.7644, Train Acc: 0.2063, Val Loss: 27.2654, Val Acc: 0.2019\n",
      "Epoch 30/200, Train Loss: 122.7307, Train Acc: 0.2207, Val Loss: 27.5463, Val Acc: 0.1810\n",
      "Epoch 31/200, Train Loss: 123.7024, Train Acc: 0.1963, Val Loss: 27.3782, Val Acc: 0.1717\n",
      "Epoch 32/200, Train Loss: 122.8663, Train Acc: 0.2172, Val Loss: 27.3314, Val Acc: 0.1833\n",
      "Epoch 33/200, Train Loss: 122.4709, Train Acc: 0.2207, Val Loss: 27.2881, Val Acc: 0.2135\n",
      "Epoch 34/200, Train Loss: 122.3892, Train Acc: 0.2247, Val Loss: 27.2685, Val Acc: 0.1995\n",
      "Epoch 35/200, Train Loss: 122.4318, Train Acc: 0.2192, Val Loss: 27.3034, Val Acc: 0.1856\n",
      "Epoch 36/200, Train Loss: 122.4811, Train Acc: 0.2127, Val Loss: 27.4677, Val Acc: 0.1740\n",
      "Epoch 37/200, Train Loss: 122.4086, Train Acc: 0.2202, Val Loss: 27.2263, Val Acc: 0.1949\n",
      "Epoch 38/200, Train Loss: 122.1350, Train Acc: 0.2261, Val Loss: 27.1975, Val Acc: 0.2019\n",
      "Epoch 39/200, Train Loss: 122.1100, Train Acc: 0.2197, Val Loss: 27.2475, Val Acc: 0.1926\n",
      "Epoch 40/200, Train Loss: 122.1774, Train Acc: 0.2227, Val Loss: 27.2694, Val Acc: 0.1995\n",
      "Epoch 41/200, Train Loss: 121.9477, Train Acc: 0.2197, Val Loss: 27.2888, Val Acc: 0.2065\n",
      "Epoch 42/200, Train Loss: 121.8404, Train Acc: 0.2192, Val Loss: 27.3107, Val Acc: 0.1763\n",
      "Epoch 43/200, Train Loss: 122.1662, Train Acc: 0.2192, Val Loss: 27.2466, Val Acc: 0.2019\n",
      "Epoch 44/200, Train Loss: 122.1731, Train Acc: 0.2107, Val Loss: 27.2749, Val Acc: 0.1879\n",
      "Epoch 45/200, Train Loss: 122.1499, Train Acc: 0.2237, Val Loss: 27.2998, Val Acc: 0.2042\n",
      "Epoch 46/200, Train Loss: 122.3208, Train Acc: 0.2187, Val Loss: 27.2028, Val Acc: 0.1995\n",
      "Epoch 47/200, Train Loss: 121.9229, Train Acc: 0.2197, Val Loss: 27.3698, Val Acc: 0.1763\n",
      "Epoch 48/200, Train Loss: 121.7879, Train Acc: 0.2187, Val Loss: 27.1703, Val Acc: 0.1972\n",
      "Epoch 49/200, Train Loss: 121.6014, Train Acc: 0.2286, Val Loss: 27.1782, Val Acc: 0.2019\n",
      "Epoch 50/200, Train Loss: 121.7902, Train Acc: 0.2212, Val Loss: 27.1362, Val Acc: 0.2088\n",
      "Epoch 51/200, Train Loss: 121.7220, Train Acc: 0.2261, Val Loss: 27.1246, Val Acc: 0.1903\n",
      "Epoch 52/200, Train Loss: 121.7586, Train Acc: 0.2217, Val Loss: 27.1176, Val Acc: 0.1995\n",
      "Epoch 53/200, Train Loss: 121.5369, Train Acc: 0.2266, Val Loss: 27.0448, Val Acc: 0.1972\n",
      "Epoch 54/200, Train Loss: 121.5847, Train Acc: 0.2147, Val Loss: 27.3338, Val Acc: 0.1717\n",
      "Epoch 55/200, Train Loss: 121.3549, Train Acc: 0.2276, Val Loss: 26.9853, Val Acc: 0.1949\n",
      "Epoch 56/200, Train Loss: 121.1111, Train Acc: 0.2227, Val Loss: 26.8902, Val Acc: 0.2274\n",
      "Epoch 57/200, Train Loss: 121.2507, Train Acc: 0.2301, Val Loss: 27.0521, Val Acc: 0.2019\n",
      "Epoch 58/200, Train Loss: 121.1269, Train Acc: 0.2222, Val Loss: 26.8523, Val Acc: 0.2019\n",
      "Epoch 59/200, Train Loss: 120.5151, Train Acc: 0.2386, Val Loss: 27.2611, Val Acc: 0.2111\n",
      "Epoch 60/200, Train Loss: 120.6616, Train Acc: 0.2306, Val Loss: 26.8888, Val Acc: 0.2065\n",
      "Epoch 61/200, Train Loss: 120.5090, Train Acc: 0.2281, Val Loss: 26.7479, Val Acc: 0.2111\n",
      "Epoch 62/200, Train Loss: 120.8436, Train Acc: 0.2247, Val Loss: 26.8683, Val Acc: 0.2111\n",
      "Epoch 63/200, Train Loss: 120.2528, Train Acc: 0.2336, Val Loss: 26.7195, Val Acc: 0.2158\n",
      "Epoch 64/200, Train Loss: 119.1212, Train Acc: 0.2381, Val Loss: 26.6799, Val Acc: 0.2158\n",
      "Epoch 65/200, Train Loss: 120.1133, Train Acc: 0.2401, Val Loss: 26.9540, Val Acc: 0.2042\n",
      "Epoch 66/200, Train Loss: 121.2554, Train Acc: 0.2356, Val Loss: 27.3268, Val Acc: 0.2065\n",
      "Epoch 67/200, Train Loss: 118.9122, Train Acc: 0.2495, Val Loss: 27.6209, Val Acc: 0.2042\n",
      "Epoch 68/200, Train Loss: 118.6748, Train Acc: 0.2490, Val Loss: 26.8751, Val Acc: 0.1972\n",
      "Epoch 69/200, Train Loss: 119.0424, Train Acc: 0.2411, Val Loss: 26.5353, Val Acc: 0.2181\n",
      "Epoch 70/200, Train Loss: 117.9769, Train Acc: 0.2475, Val Loss: 26.2089, Val Acc: 0.2413\n",
      "Epoch 71/200, Train Loss: 118.8998, Train Acc: 0.2406, Val Loss: 26.3210, Val Acc: 0.2297\n",
      "Epoch 72/200, Train Loss: 118.0781, Train Acc: 0.2525, Val Loss: 26.3449, Val Acc: 0.2111\n",
      "Epoch 73/200, Train Loss: 120.3110, Train Acc: 0.2271, Val Loss: 26.5332, Val Acc: 0.2251\n",
      "Epoch 74/200, Train Loss: 117.4706, Train Acc: 0.2570, Val Loss: 26.2520, Val Acc: 0.2413\n",
      "Epoch 75/200, Train Loss: 117.7575, Train Acc: 0.2505, Val Loss: 26.2980, Val Acc: 0.2251\n",
      "Epoch 76/200, Train Loss: 118.2348, Train Acc: 0.2406, Val Loss: 26.4163, Val Acc: 0.2158\n",
      "Epoch 77/200, Train Loss: 118.2690, Train Acc: 0.2366, Val Loss: 26.2021, Val Acc: 0.2483\n",
      "Epoch 78/200, Train Loss: 119.3568, Train Acc: 0.2455, Val Loss: 26.1449, Val Acc: 0.2436\n",
      "Epoch 79/200, Train Loss: 117.0753, Train Acc: 0.2639, Val Loss: 26.3300, Val Acc: 0.2204\n",
      "Epoch 80/200, Train Loss: 117.1811, Train Acc: 0.2664, Val Loss: 26.2523, Val Acc: 0.2436\n",
      "Epoch 81/200, Train Loss: 119.2149, Train Acc: 0.2371, Val Loss: 26.4095, Val Acc: 0.2111\n",
      "Epoch 82/200, Train Loss: 117.4316, Train Acc: 0.2555, Val Loss: 26.1248, Val Acc: 0.2320\n",
      "Epoch 83/200, Train Loss: 116.6115, Train Acc: 0.2599, Val Loss: 26.6062, Val Acc: 0.2111\n",
      "Epoch 84/200, Train Loss: 117.2764, Train Acc: 0.2584, Val Loss: 26.2204, Val Acc: 0.2367\n",
      "Epoch 85/200, Train Loss: 117.0325, Train Acc: 0.2644, Val Loss: 26.2864, Val Acc: 0.2436\n",
      "Epoch 86/200, Train Loss: 116.6069, Train Acc: 0.2674, Val Loss: 26.2146, Val Acc: 0.2204\n",
      "Epoch 87/200, Train Loss: 117.3980, Train Acc: 0.2570, Val Loss: 26.2659, Val Acc: 0.2367\n",
      "Epoch 88/200, Train Loss: 116.3640, Train Acc: 0.2624, Val Loss: 26.1959, Val Acc: 0.2227\n",
      "Epoch 89/200, Train Loss: 116.3801, Train Acc: 0.2614, Val Loss: 26.6122, Val Acc: 0.2111\n",
      "Epoch 90/200, Train Loss: 118.5312, Train Acc: 0.2440, Val Loss: 26.5942, Val Acc: 0.2135\n",
      "Epoch 91/200, Train Loss: 117.2139, Train Acc: 0.2609, Val Loss: 26.0531, Val Acc: 0.2343\n",
      "Epoch 92/200, Train Loss: 116.6621, Train Acc: 0.2575, Val Loss: 26.0477, Val Acc: 0.2367\n",
      "Epoch 93/200, Train Loss: 116.4370, Train Acc: 0.2584, Val Loss: 26.1842, Val Acc: 0.2274\n",
      "Epoch 94/200, Train Loss: 117.1639, Train Acc: 0.2505, Val Loss: 26.1259, Val Acc: 0.2181\n",
      "Epoch 95/200, Train Loss: 116.7505, Train Acc: 0.2674, Val Loss: 26.0459, Val Acc: 0.2227\n",
      "Epoch 96/200, Train Loss: 117.7255, Train Acc: 0.2495, Val Loss: 26.4270, Val Acc: 0.2274\n",
      "Epoch 97/200, Train Loss: 118.1058, Train Acc: 0.2411, Val Loss: 26.5473, Val Acc: 0.2297\n",
      "Epoch 98/200, Train Loss: 116.7251, Train Acc: 0.2629, Val Loss: 26.1367, Val Acc: 0.2320\n",
      "Epoch 99/200, Train Loss: 116.8661, Train Acc: 0.2619, Val Loss: 26.1511, Val Acc: 0.2343\n",
      "Epoch 100/200, Train Loss: 115.8592, Train Acc: 0.2753, Val Loss: 25.9817, Val Acc: 0.2390\n",
      "Epoch 101/200, Train Loss: 115.9786, Train Acc: 0.2709, Val Loss: 26.1069, Val Acc: 0.2483\n",
      "Epoch 102/200, Train Loss: 116.0297, Train Acc: 0.2788, Val Loss: 26.1507, Val Acc: 0.2343\n",
      "Epoch 103/200, Train Loss: 116.0710, Train Acc: 0.2639, Val Loss: 26.1004, Val Acc: 0.2483\n",
      "Epoch 104/200, Train Loss: 116.1037, Train Acc: 0.2689, Val Loss: 26.6695, Val Acc: 0.2158\n",
      "Epoch 105/200, Train Loss: 115.7460, Train Acc: 0.2724, Val Loss: 26.2811, Val Acc: 0.2343\n",
      "Epoch 106/200, Train Loss: 115.7737, Train Acc: 0.2719, Val Loss: 25.9913, Val Acc: 0.2390\n",
      "Epoch 107/200, Train Loss: 115.5333, Train Acc: 0.2714, Val Loss: 26.0320, Val Acc: 0.2320\n",
      "Epoch 108/200, Train Loss: 116.2878, Train Acc: 0.2689, Val Loss: 26.0729, Val Acc: 0.2343\n",
      "Epoch 109/200, Train Loss: 117.2790, Train Acc: 0.2619, Val Loss: 26.5184, Val Acc: 0.2135\n",
      "Epoch 110/200, Train Loss: 116.2049, Train Acc: 0.2654, Val Loss: 26.4619, Val Acc: 0.2367\n",
      "Epoch 111/200, Train Loss: 115.6114, Train Acc: 0.2739, Val Loss: 26.0148, Val Acc: 0.2483\n",
      "Epoch 112/200, Train Loss: 115.1452, Train Acc: 0.2813, Val Loss: 26.0004, Val Acc: 0.2599\n",
      "Epoch 113/200, Train Loss: 115.5018, Train Acc: 0.2838, Val Loss: 25.8335, Val Acc: 0.2552\n",
      "Epoch 114/200, Train Loss: 115.7699, Train Acc: 0.2873, Val Loss: 26.3729, Val Acc: 0.2390\n",
      "Epoch 115/200, Train Loss: 115.4508, Train Acc: 0.2758, Val Loss: 25.8796, Val Acc: 0.2459\n",
      "Epoch 116/200, Train Loss: 114.7124, Train Acc: 0.2937, Val Loss: 26.4536, Val Acc: 0.2297\n",
      "Epoch 117/200, Train Loss: 116.4584, Train Acc: 0.2614, Val Loss: 27.0342, Val Acc: 0.2274\n",
      "Epoch 118/200, Train Loss: 115.5709, Train Acc: 0.2848, Val Loss: 25.9650, Val Acc: 0.2413\n",
      "Epoch 119/200, Train Loss: 114.7650, Train Acc: 0.2997, Val Loss: 25.9134, Val Acc: 0.2483\n",
      "Epoch 120/200, Train Loss: 114.4752, Train Acc: 0.2898, Val Loss: 26.8360, Val Acc: 0.2297\n",
      "Epoch 121/200, Train Loss: 115.2389, Train Acc: 0.2873, Val Loss: 26.1511, Val Acc: 0.2622\n",
      "Epoch 122/200, Train Loss: 114.4407, Train Acc: 0.2843, Val Loss: 25.9915, Val Acc: 0.2459\n",
      "Epoch 123/200, Train Loss: 116.2718, Train Acc: 0.2768, Val Loss: 28.8403, Val Acc: 0.1949\n",
      "Epoch 124/200, Train Loss: 117.7642, Train Acc: 0.2416, Val Loss: 25.8971, Val Acc: 0.2413\n",
      "Epoch 125/200, Train Loss: 114.0081, Train Acc: 0.3012, Val Loss: 25.8940, Val Acc: 0.2645\n",
      "Epoch 126/200, Train Loss: 114.9999, Train Acc: 0.2873, Val Loss: 26.2611, Val Acc: 0.2227\n",
      "Epoch 127/200, Train Loss: 114.4708, Train Acc: 0.2788, Val Loss: 26.0581, Val Acc: 0.2436\n",
      "Epoch 128/200, Train Loss: 115.2043, Train Acc: 0.2758, Val Loss: 26.0619, Val Acc: 0.2483\n",
      "Epoch 129/200, Train Loss: 113.5096, Train Acc: 0.2992, Val Loss: 25.7597, Val Acc: 0.2506\n",
      "Epoch 130/200, Train Loss: 113.9028, Train Acc: 0.2997, Val Loss: 26.1972, Val Acc: 0.2413\n",
      "Epoch 131/200, Train Loss: 116.1887, Train Acc: 0.2739, Val Loss: 25.7733, Val Acc: 0.2622\n",
      "Epoch 132/200, Train Loss: 113.8432, Train Acc: 0.3022, Val Loss: 25.7484, Val Acc: 0.2343\n",
      "Epoch 133/200, Train Loss: 113.6765, Train Acc: 0.2878, Val Loss: 25.5764, Val Acc: 0.2506\n",
      "Epoch 134/200, Train Loss: 113.0951, Train Acc: 0.3111, Val Loss: 26.1158, Val Acc: 0.2181\n",
      "Epoch 135/200, Train Loss: 113.8230, Train Acc: 0.2917, Val Loss: 25.4732, Val Acc: 0.2459\n",
      "Epoch 136/200, Train Loss: 113.0234, Train Acc: 0.2977, Val Loss: 25.9389, Val Acc: 0.2645\n",
      "Epoch 137/200, Train Loss: 113.3357, Train Acc: 0.3062, Val Loss: 25.9282, Val Acc: 0.2715\n",
      "Epoch 138/200, Train Loss: 113.7574, Train Acc: 0.3062, Val Loss: 25.4481, Val Acc: 0.2529\n",
      "Epoch 139/200, Train Loss: 114.1533, Train Acc: 0.2937, Val Loss: 25.6905, Val Acc: 0.2483\n",
      "Epoch 140/200, Train Loss: 113.3179, Train Acc: 0.2942, Val Loss: 25.4694, Val Acc: 0.2738\n",
      "Epoch 141/200, Train Loss: 113.8340, Train Acc: 0.2863, Val Loss: 26.4849, Val Acc: 0.2413\n",
      "Epoch 142/200, Train Loss: 113.0317, Train Acc: 0.3082, Val Loss: 25.3589, Val Acc: 0.2784\n",
      "Epoch 143/200, Train Loss: 112.0097, Train Acc: 0.3121, Val Loss: 25.7677, Val Acc: 0.2599\n",
      "Epoch 144/200, Train Loss: 111.8224, Train Acc: 0.3047, Val Loss: 25.7556, Val Acc: 0.2483\n",
      "Epoch 145/200, Train Loss: 111.1593, Train Acc: 0.3181, Val Loss: 25.1278, Val Acc: 0.2807\n",
      "Epoch 146/200, Train Loss: 110.4562, Train Acc: 0.3236, Val Loss: 25.2612, Val Acc: 0.2622\n",
      "Epoch 147/200, Train Loss: 111.2741, Train Acc: 0.3101, Val Loss: 25.7613, Val Acc: 0.2367\n",
      "Epoch 148/200, Train Loss: 114.1958, Train Acc: 0.2997, Val Loss: 25.4669, Val Acc: 0.2599\n",
      "Epoch 149/200, Train Loss: 111.6003, Train Acc: 0.3146, Val Loss: 24.9247, Val Acc: 0.2970\n",
      "Epoch 150/200, Train Loss: 110.9408, Train Acc: 0.3246, Val Loss: 25.8797, Val Acc: 0.2715\n",
      "Epoch 151/200, Train Loss: 111.6386, Train Acc: 0.3201, Val Loss: 25.1601, Val Acc: 0.2691\n",
      "Epoch 152/200, Train Loss: 110.9289, Train Acc: 0.3166, Val Loss: 24.6739, Val Acc: 0.2993\n",
      "Epoch 153/200, Train Loss: 109.1359, Train Acc: 0.3295, Val Loss: 24.7701, Val Acc: 0.2807\n",
      "Epoch 154/200, Train Loss: 108.2441, Train Acc: 0.3429, Val Loss: 26.2383, Val Acc: 0.2459\n",
      "Epoch 155/200, Train Loss: 111.0991, Train Acc: 0.3141, Val Loss: 24.3328, Val Acc: 0.3155\n",
      "Epoch 156/200, Train Loss: 108.5360, Train Acc: 0.3335, Val Loss: 25.1994, Val Acc: 0.2900\n",
      "Epoch 157/200, Train Loss: 109.9960, Train Acc: 0.3315, Val Loss: 24.8416, Val Acc: 0.2993\n",
      "Epoch 158/200, Train Loss: 110.0177, Train Acc: 0.3206, Val Loss: 24.4555, Val Acc: 0.2877\n",
      "Epoch 159/200, Train Loss: 110.7901, Train Acc: 0.3007, Val Loss: 25.4046, Val Acc: 0.2622\n",
      "Epoch 160/200, Train Loss: 112.2864, Train Acc: 0.3012, Val Loss: 24.1335, Val Acc: 0.3086\n",
      "Epoch 161/200, Train Loss: 107.5179, Train Acc: 0.3444, Val Loss: 24.6468, Val Acc: 0.3016\n",
      "Epoch 162/200, Train Loss: 107.4076, Train Acc: 0.3315, Val Loss: 24.4736, Val Acc: 0.3063\n",
      "Epoch 163/200, Train Loss: 107.0076, Train Acc: 0.3504, Val Loss: 24.1481, Val Acc: 0.3039\n",
      "Epoch 164/200, Train Loss: 107.3792, Train Acc: 0.3494, Val Loss: 23.9603, Val Acc: 0.3063\n",
      "Epoch 165/200, Train Loss: 108.6616, Train Acc: 0.3310, Val Loss: 27.2485, Val Acc: 0.2320\n",
      "Epoch 166/200, Train Loss: 111.6376, Train Acc: 0.3042, Val Loss: 26.1642, Val Acc: 0.2436\n",
      "Epoch 167/200, Train Loss: 108.3862, Train Acc: 0.3295, Val Loss: 24.2678, Val Acc: 0.3155\n",
      "Epoch 168/200, Train Loss: 107.1272, Train Acc: 0.3459, Val Loss: 24.3414, Val Acc: 0.3225\n",
      "Epoch 169/200, Train Loss: 106.3190, Train Acc: 0.3569, Val Loss: 24.9937, Val Acc: 0.2715\n",
      "Epoch 170/200, Train Loss: 105.2609, Train Acc: 0.3504, Val Loss: 23.7206, Val Acc: 0.3271\n",
      "Epoch 171/200, Train Loss: 104.1391, Train Acc: 0.3668, Val Loss: 23.2937, Val Acc: 0.3434\n",
      "Epoch 172/200, Train Loss: 105.3589, Train Acc: 0.3509, Val Loss: 23.2415, Val Acc: 0.3318\n",
      "Epoch 173/200, Train Loss: 105.5432, Train Acc: 0.3574, Val Loss: 23.7625, Val Acc: 0.3132\n",
      "Epoch 174/200, Train Loss: 103.8714, Train Acc: 0.3524, Val Loss: 23.3769, Val Acc: 0.3202\n",
      "Epoch 175/200, Train Loss: 102.5452, Train Acc: 0.3653, Val Loss: 23.2038, Val Acc: 0.3457\n",
      "Epoch 176/200, Train Loss: 103.6751, Train Acc: 0.3534, Val Loss: 23.2668, Val Acc: 0.3341\n",
      "Epoch 177/200, Train Loss: 104.4849, Train Acc: 0.3544, Val Loss: 25.5796, Val Acc: 0.2970\n",
      "Epoch 178/200, Train Loss: 114.0686, Train Acc: 0.2962, Val Loss: 24.2135, Val Acc: 0.3318\n",
      "Epoch 179/200, Train Loss: 107.6555, Train Acc: 0.3400, Val Loss: 22.9504, Val Acc: 0.3527\n",
      "Epoch 180/200, Train Loss: 102.7257, Train Acc: 0.3593, Val Loss: 22.9932, Val Acc: 0.3364\n",
      "Epoch 181/200, Train Loss: 101.9860, Train Acc: 0.3683, Val Loss: 22.6090, Val Acc: 0.3480\n",
      "Epoch 182/200, Train Loss: 101.0146, Train Acc: 0.3748, Val Loss: 22.7798, Val Acc: 0.3550\n",
      "Epoch 183/200, Train Loss: 100.3451, Train Acc: 0.3703, Val Loss: 22.8180, Val Acc: 0.3248\n",
      "Epoch 184/200, Train Loss: 101.0815, Train Acc: 0.3693, Val Loss: 22.3612, Val Acc: 0.3527\n",
      "Epoch 185/200, Train Loss: 99.2443, Train Acc: 0.3812, Val Loss: 22.1922, Val Acc: 0.3643\n",
      "Epoch 186/200, Train Loss: 102.6187, Train Acc: 0.3628, Val Loss: 22.8758, Val Acc: 0.3109\n",
      "Epoch 187/200, Train Loss: 101.6425, Train Acc: 0.3743, Val Loss: 23.7277, Val Acc: 0.2993\n",
      "Epoch 188/200, Train Loss: 102.4070, Train Acc: 0.3569, Val Loss: 22.7600, Val Acc: 0.3643\n",
      "Epoch 189/200, Train Loss: 100.1612, Train Acc: 0.3877, Val Loss: 22.7202, Val Acc: 0.3434\n",
      "Epoch 190/200, Train Loss: 101.8614, Train Acc: 0.3738, Val Loss: 21.9622, Val Acc: 0.3643\n",
      "Epoch 191/200, Train Loss: 98.3069, Train Acc: 0.3832, Val Loss: 21.9330, Val Acc: 0.3643\n",
      "Epoch 192/200, Train Loss: 98.0445, Train Acc: 0.4081, Val Loss: 22.4684, Val Acc: 0.3503\n",
      "Epoch 193/200, Train Loss: 97.2366, Train Acc: 0.3897, Val Loss: 21.4309, Val Acc: 0.3666\n",
      "Epoch 194/200, Train Loss: 97.7137, Train Acc: 0.4006, Val Loss: 22.1220, Val Acc: 0.3619\n",
      "Epoch 195/200, Train Loss: 98.2681, Train Acc: 0.3743, Val Loss: 23.2414, Val Acc: 0.3480\n",
      "Epoch 196/200, Train Loss: 100.2285, Train Acc: 0.3738, Val Loss: 21.4125, Val Acc: 0.3619\n",
      "Epoch 197/200, Train Loss: 96.4181, Train Acc: 0.4150, Val Loss: 21.1939, Val Acc: 0.3735\n",
      "Epoch 198/200, Train Loss: 95.1743, Train Acc: 0.4105, Val Loss: 21.1561, Val Acc: 0.3875\n",
      "Epoch 199/200, Train Loss: 96.2177, Train Acc: 0.4061, Val Loss: 21.8665, Val Acc: 0.3735\n",
      "Epoch 200/200, Train Loss: 98.1303, Train Acc: 0.3907, Val Loss: 22.1138, Val Acc: 0.3596\n"
     ]
    }
   ],
   "source": [
    "writer = SummaryWriter(\"runs/torch-lstm/emotion_classifier_selected_landmarks\")\n",
    "\n",
    "for epoch in range(EPOCHS):\n",
    "    model.train()\n",
    "    train_loss = 0\n",
    "    correct = 0\n",
    "    total = 0\n",
    "    \n",
    "    for X_batch, y_batch in train_loader:\n",
    "        X_batch, y_batch = X_batch.to(device), y_batch.to(device)\n",
    "        y_batch = y_batch.argmax(dim=1)\n",
    "        \n",
    "        # Forward pass\n",
    "        outputs = model(X_batch)\n",
    "        loss = criterion(outputs, y_batch)\n",
    "        \n",
    "        # Backward pass and optimization\n",
    "        optimizer.zero_grad()\n",
    "        loss.backward()\n",
    "        optimizer.step()\n",
    "        \n",
    "        train_loss += loss.item()\n",
    "        _, predicted = outputs.max(1)\n",
    "        correct += predicted.eq(y_batch).sum().item()\n",
    "        total += y_batch.size(0)\n",
    "    \n",
    "    train_acc = correct / total\n",
    "\n",
    "    # Validation\n",
    "    model.eval()\n",
    "    val_loss = 0\n",
    "    correct = 0\n",
    "    total = 0\n",
    "    with torch.no_grad():\n",
    "        for X_batch, y_batch in val_loader:\n",
    "            X_batch, y_batch = X_batch.to(device), y_batch.to(device)\n",
    "            y_batch = y_batch.argmax(dim=1)\n",
    "            \n",
    "            outputs = model(X_batch)\n",
    "            loss = criterion(outputs, y_batch)\n",
    "            val_loss += loss.item()\n",
    "            _, predicted = outputs.max(1)\n",
    "            correct += predicted.eq(y_batch).sum().item()\n",
    "            total += y_batch.size(0)\n",
    "    \n",
    "    val_acc = correct / total\n",
    "\n",
    "    writer.add_scalar(\"Loss/Train\", train_loss, epoch)\n",
    "    writer.add_scalar(\"Loss/Validation\", val_loss, epoch)\n",
    "    writer.add_scalar(\"Accuracy/Train\", train_acc, epoch)\n",
    "    writer.add_scalar(\"Accuracy/Validation\", val_acc, epoch)\n",
    "\n",
    "    print(f\"Epoch {epoch + 1}/{EPOCHS}, Train Loss: {train_loss:.4f}, Train Acc: {train_acc:.4f}, \"\n",
    "          f\"Val Loss: {val_loss:.4f}, Val Acc: {val_acc:.4f}\")\n",
    "    \n",
    "writer.close()\n"
   ]
  },
  {
   "cell_type": "markdown",
   "metadata": {},
   "source": [
    "## Ewaluacja modelu"
   ]
  },
  {
   "cell_type": "code",
   "execution_count": 34,
   "metadata": {},
   "outputs": [
    {
     "name": "stdout",
     "output_type": "stream",
     "text": [
      "Test Loss: 0.0517, Test Accuracy: 0.3889\n"
     ]
    }
   ],
   "source": [
    "model.eval()\n",
    "\n",
    "test_loss = 0\n",
    "correct = 0\n",
    "total = 0\n",
    "\n",
    "with torch.no_grad():\n",
    "    for X_batch, y_batch in DataLoader(TensorDataset(X_test, y_test), batch_size=BATCH_SIZE, shuffle=False):\n",
    "        X_batch, y_batch = X_batch.to(device), y_batch.to(device)\n",
    "        \n",
    "        y_batch = y_batch.argmax(dim=1)\n",
    "        \n",
    "        outputs = model(X_batch)\n",
    "        loss = criterion(outputs, y_batch)\n",
    "        \n",
    "        test_loss += loss.item()\n",
    "        _, predicted = outputs.max(1)\n",
    "        correct += predicted.eq(y_batch).sum().item()\n",
    "        total += y_batch.size(0)\n",
    "\n",
    "test_loss /= len(y_test)\n",
    "test_acc = correct / total\n",
    "\n",
    "print(f\"Test Loss: {test_loss:.4f}, Test Accuracy: {test_acc:.4f}\")"
   ]
  }
 ],
 "metadata": {
  "kernelspec": {
   "display_name": "Python 3",
   "language": "python",
   "name": "python3"
  },
  "language_info": {
   "codemirror_mode": {
    "name": "ipython",
    "version": 3
   },
   "file_extension": ".py",
   "mimetype": "text/x-python",
   "name": "python",
   "nbconvert_exporter": "python",
   "pygments_lexer": "ipython3",
   "version": "3.12.9"
  }
 },
 "nbformat": 4,
 "nbformat_minor": 2
}
