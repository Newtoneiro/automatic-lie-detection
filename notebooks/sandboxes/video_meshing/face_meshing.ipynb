{
 "cells": [
  {
   "cell_type": "code",
   "execution_count": 19,
   "metadata": {},
   "outputs": [],
   "source": [
    "import numpy as np\n",
    "import mediapipe as mp\n",
    "import supervision as sv\n",
    "from PIL import Image\n",
    "from tqdm import tqdm"
   ]
  },
  {
   "cell_type": "code",
   "execution_count": 20,
   "metadata": {},
   "outputs": [],
   "source": [
    "VIDEO_PATH = \"example.mp4\"\n",
    "VIDEO_OUT = \"out.mp4\"\n",
    "video_info = sv.VideoInfo.from_video_path(VIDEO_PATH)"
   ]
  },
  {
   "cell_type": "code",
   "execution_count": 21,
   "metadata": {},
   "outputs": [],
   "source": [
    "model = mp.solutions.face_mesh.FaceMesh()\n",
    "edge_annotator = sv.EdgeAnnotator(color=sv.Color.WHITE, thickness=1)"
   ]
  },
  {
   "cell_type": "code",
   "execution_count": 30,
   "metadata": {},
   "outputs": [],
   "source": [
    "def process_frame(frame):\n",
    "    resolution_wh = (frame.shape[1], frame.shape[0])  # Width, Height from frame\n",
    "    results = model.process(frame)\n",
    "    key_points = sv.KeyPoints.from_mediapipe(results, resolution_wh=resolution_wh)\n",
    "    return edge_annotator.annotate(frame, key_points)"
   ]
  },
  {
   "cell_type": "code",
   "execution_count": 31,
   "metadata": {},
   "outputs": [
    {
     "name": "stderr",
     "output_type": "stream",
     "text": [
      "100%|██████████| 510/510 [00:32<00:00, 15.86it/s]\n"
     ]
    }
   ],
   "source": [
    "frame_generator = sv.get_video_frames_generator(source_path=VIDEO_PATH)\n",
    "\n",
    "with sv.VideoSink(VIDEO_OUT, video_info) as sink:\n",
    "    for frame in tqdm(frame_generator, total=video_info.total_frames):\n",
    "        annotated_frame = process_frame(frame)\n",
    "        sink.write_frame(annotated_frame)"
   ]
  },
  {
   "cell_type": "markdown",
   "metadata": {},
   "source": [
    "# DataProcessor tests"
   ]
  },
  {
   "cell_type": "code",
   "execution_count": 1,
   "metadata": {},
   "outputs": [],
   "source": [
    "import sys\n",
    "import os\n",
    "\n",
    "# Get the path to the src folder (assuming your notebooks and src folder are at the same level)\n",
    "src_path = os.path.abspath(os.path.join('../../../', 'src'))\n",
    "\n",
    "# Add src folder to the Python path\n",
    "if src_path not in sys.path:\n",
    "    sys.path.append(src_path)\n",
    "\n",
    "# Now you can import tools\n",
    "from tools.DataProcessor import DataProcessor"
   ]
  },
  {
   "cell_type": "code",
   "execution_count": 3,
   "metadata": {},
   "outputs": [
    {
     "name": "stderr",
     "output_type": "stream",
     "text": [
      " 59%|█████▊    | 299/510 [00:22<00:15, 13.25it/s]\n"
     ]
    }
   ],
   "source": [
    "VIDEO_PATH = \"example.mp4\"\n",
    "VIDEO_OUT = \"out.mp4\"\n",
    "\n",
    "dp = DataProcessor()\n",
    "dp.process_video(VIDEO_PATH)"
   ]
  }
 ],
 "metadata": {
  "kernelspec": {
   "display_name": "Python 3",
   "language": "python",
   "name": "python3"
  },
  "language_info": {
   "codemirror_mode": {
    "name": "ipython",
    "version": 3
   },
   "file_extension": ".py",
   "mimetype": "text/x-python",
   "name": "python",
   "nbconvert_exporter": "python",
   "pygments_lexer": "ipython3",
   "version": "3.12.6"
  }
 },
 "nbformat": 4,
 "nbformat_minor": 2
}
