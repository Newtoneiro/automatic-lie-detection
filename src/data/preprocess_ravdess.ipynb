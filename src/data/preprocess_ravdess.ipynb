{
 "cells": [
  {
   "cell_type": "code",
   "execution_count": 1,
   "metadata": {},
   "outputs": [
    {
     "name": "stdout",
     "output_type": "stream",
     "text": [
      "WARNING:tensorflow:From C:\\Users\\Bartosz\\AppData\\Local\\Packages\\PythonSoftwareFoundation.Python.3.12_qbz5n2kfra8p0\\LocalCache\\local-packages\\Python312\\site-packages\\tf_keras\\src\\losses.py:2976: The name tf.losses.sparse_softmax_cross_entropy is deprecated. Please use tf.compat.v1.losses.sparse_softmax_cross_entropy instead.\n",
      "\n"
     ]
    }
   ],
   "source": [
    "import os\n",
    "import sys\n",
    "from tqdm import tqdm\n",
    "\n",
    "src_path = os.path.abspath(os.path.join('../../', 'src'))\n",
    "if src_path not in sys.path:\n",
    "    sys.path.append(src_path)\n",
    "\n",
    "from tools.data_processor import DataProcessor\n",
    "from tools.frame_processors import SupervisionVertexProcessorWithLandmarkFrontalization\n",
    "from tools.frame_preprocessors import TextureFrontalizationPreprocessor, FaceExtractionPreprocessor"
   ]
  },
  {
   "cell_type": "code",
   "execution_count": 2,
   "metadata": {},
   "outputs": [],
   "source": [
    "RAVDESS_DATA_PATH = os.path.abspath(os.path.join('..', '..', 'data', 'raw', 'ravdess'))\n",
    "PROCESSED_DATA_PATH = os.path.abspath(os.path.join('..', '..', 'data', 'processed', 'ravdess'))\n",
    "REFERENCE_POINTS_PATH = os.path.abspath(os.path.join('..', '..', 'data', 'reference_points', 'key_points_xyz.npy'))\n",
    "\n",
    "MODELS_PATH = os.path.join(src_path, 'models', 'frontalization_models')\n"
   ]
  },
  {
   "cell_type": "markdown",
   "metadata": {},
   "source": [
    "### Data processor"
   ]
  },
  {
   "cell_type": "code",
   "execution_count": 3,
   "metadata": {},
   "outputs": [],
   "source": [
    "dp = DataProcessor(\n",
    "    frame_preprocessors=[\n",
    "        FaceExtractionPreprocessor(\n",
    "            skip_bad_frames=False,\n",
    "            output_size=(200, 200)\n",
    "        ),\n",
    "        TextureFrontalizationPreprocessor(\n",
    "            models_path=MODELS_PATH,\n",
    "            do_calculate_symmetry=True\n",
    "        ),\n",
    "    ],\n",
    "    frame_processor=SupervisionVertexProcessorWithLandmarkFrontalization(\n",
    "        reference_points_path=REFERENCE_POINTS_PATH,\n",
    "        do_make_face_mesh=False  # Output pure landmarks\n",
    "    ),\n",
    ")"
   ]
  },
  {
   "cell_type": "markdown",
   "metadata": {},
   "source": [
    "# Process ravdess data"
   ]
  },
  {
   "cell_type": "code",
   "execution_count": 4,
   "metadata": {},
   "outputs": [],
   "source": [
    "# os.makedirs(PROCESSED_DATA_PATH, exist_ok=True)"
   ]
  },
  {
   "cell_type": "code",
   "execution_count": 4,
   "metadata": {},
   "outputs": [],
   "source": [
    "already_processed_data = set(file.split(\".\")[0] for file in os.listdir(PROCESSED_DATA_PATH))"
   ]
  },
  {
   "cell_type": "code",
   "execution_count": 11,
   "metadata": {},
   "outputs": [
    {
     "name": "stderr",
     "output_type": "stream",
     "text": [
      "Processing files [13/24]:  28%|██▊       | 33/120 [00:05<00:13,  6.28it/s]"
     ]
    },
    {
     "name": "stdout",
     "output_type": "stream",
     "text": [
      "Could not process c:\\Users\\Bartosz\\Desktop\\automatic-lie-detection\\data\\raw\\ravdess\\Video_Speech_Actor_13\\Actor_13\\01-01-05-02-01-01-13.mp4 due to Cannot cast array data from dtype('float32') to dtype('uint8') according to the rule 'safe'\n"
     ]
    },
    {
     "name": "stderr",
     "output_type": "stream",
     "text": [
      "Processing files [17/24]:  82%|████████▏ | 98/120 [16:12<03:28,  9.50s/it] "
     ]
    },
    {
     "name": "stdout",
     "output_type": "stream",
     "text": [
      "Could not process c:\\Users\\Bartosz\\Desktop\\automatic-lie-detection\\data\\raw\\ravdess\\Video_Speech_Actor_17\\Actor_17\\02-01-06-01-01-02-17.mp4 due to Cannot cast array data from dtype('float32') to dtype('uint8') according to the rule 'safe'\n"
     ]
    },
    {
     "name": "stderr",
     "output_type": "stream",
     "text": [
      "Processing files [23/24]:  10%|█         | 12/120 [02:00<16:14,  9.02s/it] "
     ]
    },
    {
     "name": "stdout",
     "output_type": "stream",
     "text": [
      "Could not process c:\\Users\\Bartosz\\Desktop\\automatic-lie-detection\\data\\raw\\ravdess\\Video_Speech_Actor_23\\Actor_23\\01-01-02-02-02-02-23.mp4 due to Cannot cast array data from dtype('float32') to dtype('uint8') according to the rule 'safe'\n"
     ]
    },
    {
     "name": "stderr",
     "output_type": "stream",
     "text": [
      "Processing files [23/24]:  68%|██████▊   | 82/120 [11:47<04:58,  7.85s/it]"
     ]
    },
    {
     "name": "stdout",
     "output_type": "stream",
     "text": [
      "Could not process c:\\Users\\Bartosz\\Desktop\\automatic-lie-detection\\data\\raw\\ravdess\\Video_Speech_Actor_23\\Actor_23\\02-01-04-01-01-02-23.mp4 due to Cannot cast array data from dtype('float32') to dtype('uint8') according to the rule 'safe'\n"
     ]
    },
    {
     "name": "stderr",
     "output_type": "stream",
     "text": [
      "Processing files [24/24]:  21%|██        | 25/120 [03:32<13:03,  8.25s/it] "
     ]
    },
    {
     "name": "stdout",
     "output_type": "stream",
     "text": [
      "Could not process c:\\Users\\Bartosz\\Desktop\\automatic-lie-detection\\data\\raw\\ravdess\\Video_Speech_Actor_24\\Actor_24\\01-01-04-02-01-01-24.mp4 due to Cannot cast array data from dtype('float32') to dtype('uint8') according to the rule 'safe'\n"
     ]
    },
    {
     "name": "stderr",
     "output_type": "stream",
     "text": [
      "                                                                           \r"
     ]
    }
   ],
   "source": [
    "total = len(os.listdir(RAVDESS_DATA_PATH))\n",
    "\n",
    "for i, subdir in enumerate(os.listdir(RAVDESS_DATA_PATH), start=1):\n",
    "    subdir_n = subdir.split(\"_\")[-1]\n",
    "    subdir = os.path.join(subdir, f\"Actor_{subdir_n}\")\n",
    "    for file in tqdm(os.listdir(os.path.join(RAVDESS_DATA_PATH, subdir)), desc=f\"Processing files [{i}/{total}]\", leave=False):\n",
    "        file_path = os.path.join(RAVDESS_DATA_PATH, subdir, file)\n",
    "        out_file = file.split(\".\")[0]\n",
    "        if out_file in already_processed_data:\n",
    "            continue\n",
    "        try:\n",
    "            dp.process_data(file_path, os.path.join(PROCESSED_DATA_PATH, out_file))\n",
    "        except Exception as e:\n",
    "            print(f\"Could not process {file_path} due to {e}\")\n",
    "            continue"
   ]
  }
 ],
 "metadata": {
  "kernelspec": {
   "display_name": "Python 3",
   "language": "python",
   "name": "python3"
  },
  "language_info": {
   "codemirror_mode": {
    "name": "ipython",
    "version": 3
   },
   "file_extension": ".py",
   "mimetype": "text/x-python",
   "name": "python",
   "nbconvert_exporter": "python",
   "pygments_lexer": "ipython3",
   "version": "3.12.10"
  }
 },
 "nbformat": 4,
 "nbformat_minor": 2
}
