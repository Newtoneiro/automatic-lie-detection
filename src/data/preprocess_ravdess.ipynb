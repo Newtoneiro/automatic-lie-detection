{
 "cells": [
  {
   "cell_type": "code",
   "execution_count": 1,
   "metadata": {},
   "outputs": [
    {
     "name": "stdout",
     "output_type": "stream",
     "text": [
      "WARNING:tensorflow:From C:\\Users\\Bartosz\\AppData\\Local\\Packages\\PythonSoftwareFoundation.Python.3.12_qbz5n2kfra8p0\\LocalCache\\local-packages\\Python312\\site-packages\\tf_keras\\src\\losses.py:2976: The name tf.losses.sparse_softmax_cross_entropy is deprecated. Please use tf.compat.v1.losses.sparse_softmax_cross_entropy instead.\n",
      "\n"
     ]
    }
   ],
   "source": [
    "from deepface import DeepFace\n",
    "from matplotlib import pyplot as plt\n",
    "import cv2\n",
    "import numpy as np\n",
    "import mediapipe as mp\n",
    "import supervision as sv\n",
    "import os"
   ]
  },
  {
   "cell_type": "code",
   "execution_count": 6,
   "metadata": {},
   "outputs": [],
   "source": [
    "RAVDESS_DATA_DIR = os.path.abspath(os.path.join('..', '..', 'data', 'raw', \"ravdess\"))"
   ]
  },
  {
   "cell_type": "code",
   "execution_count": null,
   "metadata": {},
   "outputs": [],
   "source": [
    "# TODO implement data processor + preprocess the data"
   ]
  },
  {
   "cell_type": "code",
   "execution_count": 8,
   "metadata": {},
   "outputs": [
    {
     "name": "stdout",
     "output_type": "stream",
     "text": [
      "Video_Speech_Actor_01\n",
      "Video_Speech_Actor_02\n",
      "Video_Speech_Actor_03\n",
      "Video_Speech_Actor_04\n",
      "Video_Speech_Actor_05\n",
      "Video_Speech_Actor_06\n",
      "Video_Speech_Actor_07\n",
      "Video_Speech_Actor_08\n",
      "Video_Speech_Actor_09\n",
      "Video_Speech_Actor_10\n",
      "Video_Speech_Actor_11\n",
      "Video_Speech_Actor_12\n",
      "Video_Speech_Actor_13\n",
      "Video_Speech_Actor_14\n",
      "Video_Speech_Actor_15\n",
      "Video_Speech_Actor_16\n",
      "Video_Speech_Actor_17\n",
      "Video_Speech_Actor_18\n",
      "Video_Speech_Actor_19\n",
      "Video_Speech_Actor_20\n",
      "Video_Speech_Actor_21\n",
      "Video_Speech_Actor_22\n",
      "Video_Speech_Actor_23\n",
      "Video_Speech_Actor_24\n"
     ]
    }
   ],
   "source": [
    "for subdir in os.listdir(RAVDESS_DATA_DIR):\n",
    "    if os.path.isdir(os.path.join(RAVDESS_DATA_DIR, subdir)):\n",
    "        print(subdir)"
   ]
  }
 ],
 "metadata": {
  "kernelspec": {
   "display_name": "Python 3",
   "language": "python",
   "name": "python3"
  },
  "language_info": {
   "codemirror_mode": {
    "name": "ipython",
    "version": 3
   },
   "file_extension": ".py",
   "mimetype": "text/x-python",
   "name": "python",
   "nbconvert_exporter": "python",
   "pygments_lexer": "ipython3",
   "version": "3.12.8"
  }
 },
 "nbformat": 4,
 "nbformat_minor": 2
}
