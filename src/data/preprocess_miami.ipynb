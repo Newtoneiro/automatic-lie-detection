{
 "cells": [
  {
   "cell_type": "code",
   "execution_count": 1,
   "metadata": {},
   "outputs": [
    {
     "name": "stdout",
     "output_type": "stream",
     "text": [
      "WARNING:tensorflow:From C:\\Users\\Bartosz\\AppData\\Local\\Packages\\PythonSoftwareFoundation.Python.3.12_qbz5n2kfra8p0\\LocalCache\\local-packages\\Python312\\site-packages\\tf_keras\\src\\losses.py:2976: The name tf.losses.sparse_softmax_cross_entropy is deprecated. Please use tf.compat.v1.losses.sparse_softmax_cross_entropy instead.\n",
      "\n"
     ]
    }
   ],
   "source": [
    "import os\n",
    "import sys\n",
    "from tqdm import tqdm\n",
    "\n",
    "src_path = os.path.abspath(os.path.join('../../', 'src'))\n",
    "if src_path not in sys.path:\n",
    "    sys.path.append(src_path)\n",
    "\n",
    "from tools.data_processor import DataProcessor\n",
    "from tools.frame_processors import SupervisionVertexProcessorWithLandmarkFrontalization\n",
    "from tools.frame_preprocessors import TextureFrontalizationPreprocessor, FaceExtractionPreprocessor"
   ]
  },
  {
   "cell_type": "code",
   "execution_count": 2,
   "metadata": {},
   "outputs": [],
   "source": [
    "MIAMI_DATA_PATH = os.path.abspath(os.path.join('..', '..', 'data', 'raw', 'miami_deception_dataset', 'Videos'))\n",
    "PROCESSED_DATA_PATH = os.path.abspath(os.path.join('..', '..', 'data', 'processed', 'miami_deception_dataset'))\n",
    "REFERENCE_POINTS_PATH = os.path.abspath(os.path.join('..', '..', 'data', 'reference_points', 'key_points_xyz.npy'))\n",
    "\n",
    "MODELS_PATH = os.path.join(src_path, 'models', 'frontalization_models')\n"
   ]
  },
  {
   "cell_type": "markdown",
   "metadata": {},
   "source": [
    "### Data processor"
   ]
  },
  {
   "cell_type": "code",
   "execution_count": 3,
   "metadata": {},
   "outputs": [],
   "source": [
    "dp = DataProcessor(\n",
    "    frame_preprocessors=[\n",
    "        FaceExtractionPreprocessor(\n",
    "            skip_bad_frames=False,\n",
    "            output_size=(200, 200)\n",
    "        ),\n",
    "        TextureFrontalizationPreprocessor(\n",
    "            models_path=MODELS_PATH,\n",
    "            do_calculate_symmetry=True\n",
    "        ),\n",
    "    ],\n",
    "    frame_processor=SupervisionVertexProcessorWithLandmarkFrontalization(\n",
    "        reference_points_path=REFERENCE_POINTS_PATH,\n",
    "        do_make_face_mesh=False  # Output pure landmarks\n",
    "    ),\n",
    ")"
   ]
  },
  {
   "cell_type": "markdown",
   "metadata": {},
   "source": [
    "# Process miami data"
   ]
  },
  {
   "cell_type": "code",
   "execution_count": null,
   "metadata": {},
   "outputs": [],
   "source": [
    "# os.makedirs(PROCESSED_DATA_PATH, exist_ok=True)"
   ]
  },
  {
   "cell_type": "code",
   "execution_count": 5,
   "metadata": {},
   "outputs": [
    {
     "ename": "FileNotFoundError",
     "evalue": "[WinError 3] The system cannot find the path specified: 'c:\\\\Users\\\\Bartosz\\\\Desktop\\\\automatic-lie-detection\\\\data\\\\processed\\\\miami_deception_dataset'",
     "output_type": "error",
     "traceback": [
      "\u001b[1;31m---------------------------------------------------------------------------\u001b[0m",
      "\u001b[1;31mFileNotFoundError\u001b[0m                         Traceback (most recent call last)",
      "Cell \u001b[1;32mIn[5], line 1\u001b[0m\n\u001b[1;32m----> 1\u001b[0m already_processed_data \u001b[38;5;241m=\u001b[39m \u001b[38;5;28mset\u001b[39m(file\u001b[38;5;241m.\u001b[39msplit(\u001b[38;5;124m\"\u001b[39m\u001b[38;5;124m.\u001b[39m\u001b[38;5;124m\"\u001b[39m)[\u001b[38;5;241m0\u001b[39m] \u001b[38;5;28;01mfor\u001b[39;00m file \u001b[38;5;129;01min\u001b[39;00m \u001b[43mos\u001b[49m\u001b[38;5;241;43m.\u001b[39;49m\u001b[43mlistdir\u001b[49m\u001b[43m(\u001b[49m\u001b[43mPROCESSED_DATA_PATH\u001b[49m\u001b[43m)\u001b[49m)\n",
      "\u001b[1;31mFileNotFoundError\u001b[0m: [WinError 3] The system cannot find the path specified: 'c:\\\\Users\\\\Bartosz\\\\Desktop\\\\automatic-lie-detection\\\\data\\\\processed\\\\miami_deception_dataset'"
     ]
    }
   ],
   "source": [
    "already_processed_data = set(file.split(\".\")[0] for file in os.listdir(PROCESSED_DATA_PATH))"
   ]
  },
  {
   "cell_type": "code",
   "execution_count": null,
   "metadata": {},
   "outputs": [
    {
     "name": "stderr",
     "output_type": "stream",
     "text": [
      "Processing files [13/24]:  28%|██▊       | 33/120 [00:05<00:13,  6.28it/s]"
     ]
    },
    {
     "name": "stdout",
     "output_type": "stream",
     "text": [
      "Could not process c:\\Users\\Bartosz\\Desktop\\automatic-lie-detection\\data\\raw\\ravdess\\Video_Speech_Actor_13\\Actor_13\\01-01-05-02-01-01-13.mp4 due to Cannot cast array data from dtype('float32') to dtype('uint8') according to the rule 'safe'\n"
     ]
    },
    {
     "name": "stderr",
     "output_type": "stream",
     "text": [
      "Processing files [17/24]:  82%|████████▏ | 98/120 [16:12<03:28,  9.50s/it] "
     ]
    },
    {
     "name": "stdout",
     "output_type": "stream",
     "text": [
      "Could not process c:\\Users\\Bartosz\\Desktop\\automatic-lie-detection\\data\\raw\\ravdess\\Video_Speech_Actor_17\\Actor_17\\02-01-06-01-01-02-17.mp4 due to Cannot cast array data from dtype('float32') to dtype('uint8') according to the rule 'safe'\n"
     ]
    },
    {
     "name": "stderr",
     "output_type": "stream",
     "text": [
      "Processing files [23/24]:  10%|█         | 12/120 [02:00<16:14,  9.02s/it] "
     ]
    },
    {
     "name": "stdout",
     "output_type": "stream",
     "text": [
      "Could not process c:\\Users\\Bartosz\\Desktop\\automatic-lie-detection\\data\\raw\\ravdess\\Video_Speech_Actor_23\\Actor_23\\01-01-02-02-02-02-23.mp4 due to Cannot cast array data from dtype('float32') to dtype('uint8') according to the rule 'safe'\n"
     ]
    },
    {
     "name": "stderr",
     "output_type": "stream",
     "text": [
      "Processing files [23/24]:  68%|██████▊   | 82/120 [11:47<04:58,  7.85s/it]"
     ]
    },
    {
     "name": "stdout",
     "output_type": "stream",
     "text": [
      "Could not process c:\\Users\\Bartosz\\Desktop\\automatic-lie-detection\\data\\raw\\ravdess\\Video_Speech_Actor_23\\Actor_23\\02-01-04-01-01-02-23.mp4 due to Cannot cast array data from dtype('float32') to dtype('uint8') according to the rule 'safe'\n"
     ]
    },
    {
     "name": "stderr",
     "output_type": "stream",
     "text": [
      "Processing files [24/24]:  21%|██        | 25/120 [03:32<13:03,  8.25s/it] "
     ]
    },
    {
     "name": "stdout",
     "output_type": "stream",
     "text": [
      "Could not process c:\\Users\\Bartosz\\Desktop\\automatic-lie-detection\\data\\raw\\ravdess\\Video_Speech_Actor_24\\Actor_24\\01-01-04-02-01-01-24.mp4 due to Cannot cast array data from dtype('float32') to dtype('uint8') according to the rule 'safe'\n"
     ]
    },
    {
     "name": "stderr",
     "output_type": "stream",
     "text": [
      "                                                                           \r"
     ]
    }
   ],
   "source": [
    "total = len(os.listdir(MIAMI_DATA_PATH))\n",
    "\n",
    "for file in tqdm(os.listdir(MIAMI_DATA_PATH), desc=f\"Processing files\", total=total, leave=False):\n",
    "    file_path = os.path.join(MIAMI_DATA_PATH, file)\n",
    "    out_file = file.split(\".\")[0]\n",
    "    if out_file in already_processed_data:\n",
    "        continue\n",
    "    try:\n",
    "        dp.process_data(file_path, os.path.join(PROCESSED_DATA_PATH, out_file))\n",
    "    except Exception as e:\n",
    "        print(f\"Could not process {file_path} due to {e}\")\n",
    "        continue"
   ]
  }
 ],
 "metadata": {
  "kernelspec": {
   "display_name": "Python 3",
   "language": "python",
   "name": "python3"
  },
  "language_info": {
   "codemirror_mode": {
    "name": "ipython",
    "version": 3
   },
   "file_extension": ".py",
   "mimetype": "text/x-python",
   "name": "python",
   "nbconvert_exporter": "python",
   "pygments_lexer": "ipython3",
   "version": "3.12.9"
  }
 },
 "nbformat": 4,
 "nbformat_minor": 2
}
