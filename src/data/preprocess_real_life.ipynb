{
 "cells": [
  {
   "cell_type": "code",
   "execution_count": 2,
   "metadata": {},
   "outputs": [
    {
     "name": "stdout",
     "output_type": "stream",
     "text": [
      "WARNING:tensorflow:From C:\\Users\\Bartosz\\AppData\\Local\\Packages\\PythonSoftwareFoundation.Python.3.12_qbz5n2kfra8p0\\LocalCache\\local-packages\\Python312\\site-packages\\tf_keras\\src\\losses.py:2976: The name tf.losses.sparse_softmax_cross_entropy is deprecated. Please use tf.compat.v1.losses.sparse_softmax_cross_entropy instead.\n",
      "\n"
     ]
    }
   ],
   "source": [
    "import os\n",
    "import sys\n",
    "from tqdm import tqdm\n",
    "\n",
    "src_path = os.path.abspath(os.path.join('../../', 'src'))\n",
    "if src_path not in sys.path:\n",
    "    sys.path.append(src_path)\n",
    "\n",
    "from tools.data_processor import DataProcessor\n",
    "from tools.frame_processors import SupervisionVertexProcessorWithLandmarkFrontalization\n",
    "from tools.frame_preprocessors import TextureFrontalizationPreprocessor, FaceExtractionPreprocessor"
   ]
  },
  {
   "cell_type": "code",
   "execution_count": 3,
   "metadata": {},
   "outputs": [],
   "source": [
    "DATA_PATH = os.path.abspath(os.path.join('..', '..', 'data', 'raw', 'real_life_deception_detection', 'Real-life_Deception_Detection_2016', 'Clips'))\n",
    "PROCESSED_DATA_PATH = os.path.abspath(os.path.join('..', '..', 'data', 'processed', 'real_life_deception_detection'))\n",
    "REFERENCE_POINTS_PATH = os.path.abspath(os.path.join('..', '..', 'data', 'reference_points', 'key_points_xyz.npy'))\n",
    "\n",
    "MODELS_PATH = os.path.join(src_path, 'models', 'frontalization_models')\n"
   ]
  },
  {
   "cell_type": "markdown",
   "metadata": {},
   "source": [
    "### Data processor"
   ]
  },
  {
   "cell_type": "code",
   "execution_count": 4,
   "metadata": {},
   "outputs": [],
   "source": [
    "dp = DataProcessor(\n",
    "    frame_preprocessors=[\n",
    "        FaceExtractionPreprocessor(\n",
    "            skip_bad_frames=False,\n",
    "            output_size=(200, 200)\n",
    "        ),\n",
    "        TextureFrontalizationPreprocessor(\n",
    "            models_path=MODELS_PATH,\n",
    "            do_calculate_symmetry=True\n",
    "        ),\n",
    "    ],\n",
    "    frame_processor=SupervisionVertexProcessorWithLandmarkFrontalization(\n",
    "        reference_points_path=REFERENCE_POINTS_PATH,\n",
    "        do_make_face_mesh=False  # Output pure landmarks\n",
    "    ),\n",
    ")"
   ]
  },
  {
   "cell_type": "markdown",
   "metadata": {},
   "source": [
    "# Process miami data"
   ]
  },
  {
   "cell_type": "code",
   "execution_count": 5,
   "metadata": {},
   "outputs": [],
   "source": [
    "# os.makedirs(PROCESSED_DATA_PATH, exist_ok=True)"
   ]
  },
  {
   "cell_type": "code",
   "execution_count": 6,
   "metadata": {},
   "outputs": [],
   "source": [
    "already_processed_data = set(file.split(\".\")[0] for file in os.listdir(PROCESSED_DATA_PATH))"
   ]
  },
  {
   "cell_type": "code",
   "execution_count": 9,
   "metadata": {},
   "outputs": [],
   "source": [
    "import os\n",
    "\n",
    "SUBFOLDERS = ['Deceptive', 'Truthful']\n",
    "ALL_CLIPS = []\n",
    "\n",
    "for subfolder in SUBFOLDERS:\n",
    "    folder_path = os.path.join(DATA_PATH, subfolder)\n",
    "    clips = [(subfolder, clip) for clip in os.listdir(folder_path)]\n",
    "    ALL_CLIPS.extend(clips)"
   ]
  },
  {
   "cell_type": "code",
   "execution_count": 11,
   "metadata": {},
   "outputs": [
    {
     "name": "stderr",
     "output_type": "stream",
     "text": [
      "                                                                      \r"
     ]
    }
   ],
   "source": [
    "total = len(ALL_CLIPS)\n",
    "\n",
    "for file in tqdm(ALL_CLIPS, desc=f\"Processing files\", total=total, leave=False):\n",
    "    file_path = os.path.join(DATA_PATH, *file)\n",
    "    out_file = file[1].split(\".\")[0]\n",
    "    if out_file in already_processed_data:\n",
    "        continue\n",
    "    try:\n",
    "        dp.process_data(file_path, os.path.join(PROCESSED_DATA_PATH, out_file))\n",
    "    except Exception as e:\n",
    "        print(f\"Could not process {file_path} due to {e}\")\n",
    "        continue"
   ]
  }
 ],
 "metadata": {
  "kernelspec": {
   "display_name": "Python 3",
   "language": "python",
   "name": "python3"
  },
  "language_info": {
   "codemirror_mode": {
    "name": "ipython",
    "version": 3
   },
   "file_extension": ".py",
   "mimetype": "text/x-python",
   "name": "python",
   "nbconvert_exporter": "python",
   "pygments_lexer": "ipython3",
   "version": "3.12.10"
  }
 },
 "nbformat": 4,
 "nbformat_minor": 2
}
