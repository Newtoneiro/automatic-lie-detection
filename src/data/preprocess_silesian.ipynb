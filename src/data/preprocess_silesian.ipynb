{
 "cells": [
  {
   "cell_type": "code",
   "execution_count": 1,
   "metadata": {},
   "outputs": [
    {
     "name": "stdout",
     "output_type": "stream",
     "text": [
      "WARNING:tensorflow:From C:\\Users\\Bartosz\\AppData\\Local\\Packages\\PythonSoftwareFoundation.Python.3.12_qbz5n2kfra8p0\\LocalCache\\local-packages\\Python312\\site-packages\\tf_keras\\src\\losses.py:2976: The name tf.losses.sparse_softmax_cross_entropy is deprecated. Please use tf.compat.v1.losses.sparse_softmax_cross_entropy instead.\n",
      "\n"
     ]
    }
   ],
   "source": [
    "import os\n",
    "import sys\n",
    "from tqdm import tqdm\n",
    "import xml.etree.ElementTree as ET\n",
    "\n",
    "src_path = os.path.abspath(os.path.join('../../', 'src'))\n",
    "if src_path not in sys.path:\n",
    "    sys.path.append(src_path)\n",
    "\n",
    "from tools.data_processor import DataProcessor\n",
    "from tools.frame_processors import SupervisionVertexProcessorWithLandmarkFrontalization\n",
    "from tools.frame_preprocessors import TextureFrontalizationPreprocessor, FaceExtractionPreprocessor"
   ]
  },
  {
   "cell_type": "code",
   "execution_count": 2,
   "metadata": {},
   "outputs": [],
   "source": [
    "SILESIAN_DATA_PATH = os.path.abspath(os.path.join('..', '..', 'data', 'raw', 'silesian_deception'))\n",
    "MIDWAY_DATA_PATH = os.path.abspath(os.path.join('..', '..', 'data', 'raw', 'silesian_deception_cut'))\n",
    "PROCESSED_DATA_PATH = os.path.abspath(os.path.join('..', '..', 'data', 'processed', 'miami_deception'))\n",
    "REFERENCE_POINTS_PATH = os.path.abspath(os.path.join('..', '..', 'data', 'reference_points', 'key_points_xyz.npy'))\n",
    "\n",
    "MODELS_PATH = os.path.join(src_path, 'models', 'frontalization_models')"
   ]
  },
  {
   "cell_type": "markdown",
   "metadata": {},
   "source": [
    "### For this dataset we first need to cut the videos into separate questions based on Truth / Deception"
   ]
  },
  {
   "cell_type": "code",
   "execution_count": 3,
   "metadata": {},
   "outputs": [],
   "source": [
    "# according to https://www.researchgate.net/publication/301461665_Silesian_Deception_Database_Presentation_and_Analysis\n",
    "QUESTIONS_DECEPTION = [0, 0, 1, 1, 1, 1, 1, 1, 0, 1]"
   ]
  },
  {
   "cell_type": "code",
   "execution_count": 37,
   "metadata": {},
   "outputs": [],
   "source": [
    "mappings = {}"
   ]
  },
  {
   "cell_type": "code",
   "execution_count": 38,
   "metadata": {},
   "outputs": [],
   "source": [
    "for subfolder in [\"poli1Video\", \"poli2Video\", \"poli3Video\"]:\n",
    "    mappings[subfolder] = {}\n",
    "    SUBFOLDER_DIR = os.path.join(SILESIAN_DATA_PATH, subfolder)\n",
    "    for file in os.listdir(SUBFOLDER_DIR):\n",
    "        if \".avi\" not in file:\n",
    "            continue\n",
    "        person_id = file.split(\".\")[0]\n",
    "        mappings[subfolder][person_id] = {}\n",
    "        tree = ET.parse(os.path.join(SUBFOLDER_DIR, f\"{person_id}.eaf\"))\n",
    "        time_slot_mapping = {\n",
    "            slot.get(\"TIME_SLOT_ID\"): slot.get(\"TIME_VALUE\")\n",
    "            for slot in tree.findall(\".//TIME_SLOT\")\n",
    "        }\n",
    "        for tier in tree.findall(\"TIER\"):\n",
    "            if (\n",
    "                tier.get(\"DEFAULT_LOCALE\") == \"pl\"\n",
    "                and tier.get(\"LINGUISTIC_TYPE_REF\") == \"Question\"\n",
    "                and tier.get(\"TIER_ID\") == \"Question\"\n",
    "            ):\n",
    "                for i, annotation in enumerate(tier.findall(\".//ANNOTATION/ALIGNABLE_ANNOTATION\"), start=1):\n",
    "                    time_slot1 = annotation.get(\"TIME_SLOT_REF1\")\n",
    "                    time_slot2 = annotation.get(\"TIME_SLOT_REF2\")\n",
    "                    mappings[subfolder][person_id][i] = (int(time_slot_mapping[time_slot1]), int(time_slot_mapping[time_slot2]))\n",
    "        "
   ]
  },
  {
   "cell_type": "code",
   "execution_count": null,
   "metadata": {},
   "outputs": [
    {
     "name": "stderr",
     "output_type": "stream",
     "text": [
      "                                                                            \n",
      "                                                                            \n",
      "frame_index:  66%|██████▌   | 6092/9239 [02:40<00:01, 1632.85it/s, now=None]"
     ]
    },
    {
     "name": "stdout",
     "output_type": "stream",
     "text": [
      "{'video_found': True, 'audio_found': False, 'metadata': {}, 'inputs': [{'streams': [{'input_number': 0, 'stream_number': 0, 'stream_type': 'video', 'language': None, 'default': True, 'size': [640, 480], 'bitrate': 20496, 'fps': 100.0, 'codec_name': 'mjpeg', 'profile': '(Baseline)'}], 'input_number': 0}], 'duration': 119.67, 'bitrate': 20524, 'start': 0.0, 'default_video_input_number': 0, 'default_video_stream_number': 0, 'video_codec_name': 'mjpeg', 'video_profile': '(Baseline)', 'video_size': [640, 480], 'video_bitrate': 20496, 'video_fps': 100.0, 'video_duration': 119.67, 'video_n_frames': 11967}\n",
      "C:\\Users\\Bartosz\\AppData\\Local\\Packages\\PythonSoftwareFoundation.Python.3.12_qbz5n2kfra8p0\\LocalCache\\local-packages\\Python312\\site-packages\\imageio_ffmpeg\\binaries\\ffmpeg-win64-v4.2.2.exe -i c:\\Users\\Bartosz\\Desktop\\automatic-lie-detection\\data\\raw\\silesian_deception\\poli1Video\\person1.avi -loglevel error -f image2pipe -vf scale=640:480 -sws_flags bicubic -pix_fmt rgb24 -vcodec rawvideo -\n",
      "{'video_found': True, 'audio_found': False, 'metadata': {}, 'inputs': [{'streams': [{'input_number': 0, 'stream_number': 0, 'stream_type': 'video', 'language': None, 'default': True, 'size': [640, 480], 'bitrate': 20496, 'fps': 100.0, 'codec_name': 'mjpeg', 'profile': '(Baseline)'}], 'input_number': 0}], 'duration': 119.67, 'bitrate': 20524, 'start': 0.0, 'default_video_input_number': 0, 'default_video_stream_number': 0, 'video_codec_name': 'mjpeg', 'video_profile': '(Baseline)', 'video_size': [640, 480], 'video_bitrate': 20496, 'video_fps': 100.0, 'video_duration': 119.67, 'video_n_frames': 11967}\n",
      "C:\\Users\\Bartosz\\AppData\\Local\\Packages\\PythonSoftwareFoundation.Python.3.12_qbz5n2kfra8p0\\LocalCache\\local-packages\\Python312\\site-packages\\imageio_ffmpeg\\binaries\\ffmpeg-win64-v4.2.2.exe -ss 2.147000 -i c:\\Users\\Bartosz\\Desktop\\automatic-lie-detection\\data\\raw\\silesian_deception\\poli1Video\\person1.avi -ss 1.000000 -loglevel error -f image2pipe -vf scale=640:480 -sws_flags bicubic -pix_fmt rgb24 -vcodec rawvideo -\n",
      "MoviePy - Building video c:\\Users\\Bartosz\\Desktop\\automatic-lie-detection\\data\\raw\\silesian_deception_cut\\poli1Video\\person1_1.avi.\n",
      "MoviePy - Writing video c:\\Users\\Bartosz\\Desktop\\automatic-lie-detection\\data\\raw\\silesian_deception_cut\\poli1Video\\person1_1.avi\n",
      "\n"
     ]
    },
    {
     "name": "stderr",
     "output_type": "stream",
     "text": [
      "\n",
      "\u001b[A\n",
      "\u001b[A\n",
      "\u001b[A\n",
      "\u001b[A\n",
      "\u001b[A\n",
      "\u001b[A\n",
      "\u001b[A\n",
      "\u001b[A\n",
      "\u001b[A\n",
      "\u001b[A\n",
      "\u001b[A\n",
      "\u001b[A\n",
      "\u001b[A\n",
      "                                                                            \n",
      "                                                                            \n",
      "frame_index:  66%|██████▌   | 6092/9239 [02:41<00:01, 1632.85it/s, now=None]"
     ]
    },
    {
     "name": "stdout",
     "output_type": "stream",
     "text": [
      "MoviePy - Done !\n",
      "MoviePy - video ready c:\\Users\\Bartosz\\Desktop\\automatic-lie-detection\\data\\raw\\silesian_deception_cut\\poli1Video\\person1_1.avi\n",
      "{'video_found': True, 'audio_found': False, 'metadata': {}, 'inputs': [{'streams': [{'input_number': 0, 'stream_number': 0, 'stream_type': 'video', 'language': None, 'default': True, 'size': [640, 480], 'bitrate': 20496, 'fps': 100.0, 'codec_name': 'mjpeg', 'profile': '(Baseline)'}], 'input_number': 0}], 'duration': 119.67, 'bitrate': 20524, 'start': 0.0, 'default_video_input_number': 0, 'default_video_stream_number': 0, 'video_codec_name': 'mjpeg', 'video_profile': '(Baseline)', 'video_size': [640, 480], 'video_bitrate': 20496, 'video_fps': 100.0, 'video_duration': 119.67, 'video_n_frames': 11967}\n",
      "C:\\Users\\Bartosz\\AppData\\Local\\Packages\\PythonSoftwareFoundation.Python.3.12_qbz5n2kfra8p0\\LocalCache\\local-packages\\Python312\\site-packages\\imageio_ffmpeg\\binaries\\ffmpeg-win64-v4.2.2.exe -i c:\\Users\\Bartosz\\Desktop\\automatic-lie-detection\\data\\raw\\silesian_deception\\poli1Video\\person1.avi -loglevel error -f image2pipe -vf scale=640:480 -sws_flags bicubic -pix_fmt rgb24 -vcodec rawvideo -\n",
      "{'video_found': True, 'audio_found': False, 'metadata': {}, 'inputs': [{'streams': [{'input_number': 0, 'stream_number': 0, 'stream_type': 'video', 'language': None, 'default': True, 'size': [640, 480], 'bitrate': 20496, 'fps': 100.0, 'codec_name': 'mjpeg', 'profile': '(Baseline)'}], 'input_number': 0}], 'duration': 119.67, 'bitrate': 20524, 'start': 0.0, 'default_video_input_number': 0, 'default_video_stream_number': 0, 'video_codec_name': 'mjpeg', 'video_profile': '(Baseline)', 'video_size': [640, 480], 'video_bitrate': 20496, 'video_fps': 100.0, 'video_duration': 119.67, 'video_n_frames': 11967}\n",
      "C:\\Users\\Bartosz\\AppData\\Local\\Packages\\PythonSoftwareFoundation.Python.3.12_qbz5n2kfra8p0\\LocalCache\\local-packages\\Python312\\site-packages\\imageio_ffmpeg\\binaries\\ffmpeg-win64-v4.2.2.exe -ss 13.930000 -i c:\\Users\\Bartosz\\Desktop\\automatic-lie-detection\\data\\raw\\silesian_deception\\poli1Video\\person1.avi -ss 1.000000 -loglevel error -f image2pipe -vf scale=640:480 -sws_flags bicubic -pix_fmt rgb24 -vcodec rawvideo -\n"
     ]
    },
    {
     "name": "stderr",
     "output_type": "stream",
     "text": [
      "                                                                            \n",
      "                                                                            \n",
      "frame_index:  66%|██████▌   | 6092/9239 [02:41<00:01, 1632.85it/s, now=None]"
     ]
    },
    {
     "name": "stdout",
     "output_type": "stream",
     "text": [
      "MoviePy - Building video c:\\Users\\Bartosz\\Desktop\\automatic-lie-detection\\data\\raw\\silesian_deception_cut\\poli1Video\\person1_2.avi.\n",
      "MoviePy - Writing video c:\\Users\\Bartosz\\Desktop\\automatic-lie-detection\\data\\raw\\silesian_deception_cut\\poli1Video\\person1_2.avi\n",
      "\n"
     ]
    },
    {
     "name": "stderr",
     "output_type": "stream",
     "text": [
      "\n",
      "\u001b[A\n",
      "\u001b[A\n",
      "\u001b[A\n",
      "\u001b[A\n",
      "\u001b[A\n",
      "\u001b[A\n",
      "\u001b[A\n",
      "\u001b[A\n",
      "\u001b[A\n",
      "\u001b[A\n",
      "\u001b[A\n",
      "\u001b[A\n",
      "\u001b[A\n",
      "                                                                            \n",
      "                                                                            \n",
      "frame_index:  66%|██████▌   | 6092/9239 [02:42<00:01, 1632.85it/s, now=None]"
     ]
    },
    {
     "name": "stdout",
     "output_type": "stream",
     "text": [
      "MoviePy - Done !\n",
      "MoviePy - video ready c:\\Users\\Bartosz\\Desktop\\automatic-lie-detection\\data\\raw\\silesian_deception_cut\\poli1Video\\person1_2.avi\n",
      "{'video_found': True, 'audio_found': False, 'metadata': {}, 'inputs': [{'streams': [{'input_number': 0, 'stream_number': 0, 'stream_type': 'video', 'language': None, 'default': True, 'size': [640, 480], 'bitrate': 20496, 'fps': 100.0, 'codec_name': 'mjpeg', 'profile': '(Baseline)'}], 'input_number': 0}], 'duration': 119.67, 'bitrate': 20524, 'start': 0.0, 'default_video_input_number': 0, 'default_video_stream_number': 0, 'video_codec_name': 'mjpeg', 'video_profile': '(Baseline)', 'video_size': [640, 480], 'video_bitrate': 20496, 'video_fps': 100.0, 'video_duration': 119.67, 'video_n_frames': 11967}\n",
      "C:\\Users\\Bartosz\\AppData\\Local\\Packages\\PythonSoftwareFoundation.Python.3.12_qbz5n2kfra8p0\\LocalCache\\local-packages\\Python312\\site-packages\\imageio_ffmpeg\\binaries\\ffmpeg-win64-v4.2.2.exe -i c:\\Users\\Bartosz\\Desktop\\automatic-lie-detection\\data\\raw\\silesian_deception\\poli1Video\\person1.avi -loglevel error -f image2pipe -vf scale=640:480 -sws_flags bicubic -pix_fmt rgb24 -vcodec rawvideo -\n",
      "{'video_found': True, 'audio_found': False, 'metadata': {}, 'inputs': [{'streams': [{'input_number': 0, 'stream_number': 0, 'stream_type': 'video', 'language': None, 'default': True, 'size': [640, 480], 'bitrate': 20496, 'fps': 100.0, 'codec_name': 'mjpeg', 'profile': '(Baseline)'}], 'input_number': 0}], 'duration': 119.67, 'bitrate': 20524, 'start': 0.0, 'default_video_input_number': 0, 'default_video_stream_number': 0, 'video_codec_name': 'mjpeg', 'video_profile': '(Baseline)', 'video_size': [640, 480], 'video_bitrate': 20496, 'video_fps': 100.0, 'video_duration': 119.67, 'video_n_frames': 11967}\n",
      "C:\\Users\\Bartosz\\AppData\\Local\\Packages\\PythonSoftwareFoundation.Python.3.12_qbz5n2kfra8p0\\LocalCache\\local-packages\\Python312\\site-packages\\imageio_ffmpeg\\binaries\\ffmpeg-win64-v4.2.2.exe -ss 25.680000 -i c:\\Users\\Bartosz\\Desktop\\automatic-lie-detection\\data\\raw\\silesian_deception\\poli1Video\\person1.avi -ss 1.000000 -loglevel error -f image2pipe -vf scale=640:480 -sws_flags bicubic -pix_fmt rgb24 -vcodec rawvideo -\n"
     ]
    },
    {
     "name": "stderr",
     "output_type": "stream",
     "text": [
      "                                                                            \n",
      "                                                                            \n",
      "frame_index:  66%|██████▌   | 6092/9239 [02:42<00:01, 1632.85it/s, now=None]"
     ]
    },
    {
     "name": "stdout",
     "output_type": "stream",
     "text": [
      "MoviePy - Building video c:\\Users\\Bartosz\\Desktop\\automatic-lie-detection\\data\\raw\\silesian_deception_cut\\poli1Video\\person1_3.avi.\n",
      "MoviePy - Writing video c:\\Users\\Bartosz\\Desktop\\automatic-lie-detection\\data\\raw\\silesian_deception_cut\\poli1Video\\person1_3.avi\n",
      "\n"
     ]
    },
    {
     "name": "stderr",
     "output_type": "stream",
     "text": [
      "\n",
      "\u001b[A\n",
      "\u001b[A\n",
      "\u001b[A\n",
      "\u001b[A\n",
      "\u001b[A\n",
      "\u001b[A\n",
      "\u001b[A\n",
      "\u001b[A\n",
      "\u001b[A\n",
      "\u001b[A\n",
      "\u001b[A\n",
      "\u001b[A\n",
      "                                                                            \n",
      "                                                                            \n",
      "frame_index:  66%|██████▌   | 6092/9239 [02:44<00:01, 1632.85it/s, now=None]"
     ]
    },
    {
     "name": "stdout",
     "output_type": "stream",
     "text": [
      "MoviePy - Done !\n",
      "MoviePy - video ready c:\\Users\\Bartosz\\Desktop\\automatic-lie-detection\\data\\raw\\silesian_deception_cut\\poli1Video\\person1_3.avi\n",
      "{'video_found': True, 'audio_found': False, 'metadata': {}, 'inputs': [{'streams': [{'input_number': 0, 'stream_number': 0, 'stream_type': 'video', 'language': None, 'default': True, 'size': [640, 480], 'bitrate': 20496, 'fps': 100.0, 'codec_name': 'mjpeg', 'profile': '(Baseline)'}], 'input_number': 0}], 'duration': 119.67, 'bitrate': 20524, 'start': 0.0, 'default_video_input_number': 0, 'default_video_stream_number': 0, 'video_codec_name': 'mjpeg', 'video_profile': '(Baseline)', 'video_size': [640, 480], 'video_bitrate': 20496, 'video_fps': 100.0, 'video_duration': 119.67, 'video_n_frames': 11967}\n",
      "C:\\Users\\Bartosz\\AppData\\Local\\Packages\\PythonSoftwareFoundation.Python.3.12_qbz5n2kfra8p0\\LocalCache\\local-packages\\Python312\\site-packages\\imageio_ffmpeg\\binaries\\ffmpeg-win64-v4.2.2.exe -i c:\\Users\\Bartosz\\Desktop\\automatic-lie-detection\\data\\raw\\silesian_deception\\poli1Video\\person1.avi -loglevel error -f image2pipe -vf scale=640:480 -sws_flags bicubic -pix_fmt rgb24 -vcodec rawvideo -\n",
      "{'video_found': True, 'audio_found': False, 'metadata': {}, 'inputs': [{'streams': [{'input_number': 0, 'stream_number': 0, 'stream_type': 'video', 'language': None, 'default': True, 'size': [640, 480], 'bitrate': 20496, 'fps': 100.0, 'codec_name': 'mjpeg', 'profile': '(Baseline)'}], 'input_number': 0}], 'duration': 119.67, 'bitrate': 20524, 'start': 0.0, 'default_video_input_number': 0, 'default_video_stream_number': 0, 'video_codec_name': 'mjpeg', 'video_profile': '(Baseline)', 'video_size': [640, 480], 'video_bitrate': 20496, 'video_fps': 100.0, 'video_duration': 119.67, 'video_n_frames': 11967}\n",
      "C:\\Users\\Bartosz\\AppData\\Local\\Packages\\PythonSoftwareFoundation.Python.3.12_qbz5n2kfra8p0\\LocalCache\\local-packages\\Python312\\site-packages\\imageio_ffmpeg\\binaries\\ffmpeg-win64-v4.2.2.exe -ss 36.800000 -i c:\\Users\\Bartosz\\Desktop\\automatic-lie-detection\\data\\raw\\silesian_deception\\poli1Video\\person1.avi -ss 1.000000 -loglevel error -f image2pipe -vf scale=640:480 -sws_flags bicubic -pix_fmt rgb24 -vcodec rawvideo -\n"
     ]
    },
    {
     "name": "stderr",
     "output_type": "stream",
     "text": [
      "                                                                            \n",
      "                                                                            \n",
      "frame_index:  66%|██████▌   | 6092/9239 [02:44<00:01, 1632.85it/s, now=None]"
     ]
    },
    {
     "name": "stdout",
     "output_type": "stream",
     "text": [
      "MoviePy - Building video c:\\Users\\Bartosz\\Desktop\\automatic-lie-detection\\data\\raw\\silesian_deception_cut\\poli1Video\\person1_4.avi.\n",
      "MoviePy - Writing video c:\\Users\\Bartosz\\Desktop\\automatic-lie-detection\\data\\raw\\silesian_deception_cut\\poli1Video\\person1_4.avi\n",
      "\n"
     ]
    },
    {
     "name": "stderr",
     "output_type": "stream",
     "text": [
      "\n",
      "\u001b[A\n",
      "\u001b[A\n",
      "\u001b[A\n",
      "\u001b[A\n",
      "\u001b[A\n",
      "\u001b[A\n",
      "\u001b[A\n",
      "\u001b[A\n",
      "\u001b[A\n",
      "\u001b[A\n",
      "\u001b[A\n",
      "\u001b[A\n",
      "\u001b[A\n",
      "                                                                            \n",
      "                                                                            \n",
      "frame_index:  66%|██████▌   | 6092/9239 [02:45<00:01, 1632.85it/s, now=None]"
     ]
    },
    {
     "name": "stdout",
     "output_type": "stream",
     "text": [
      "MoviePy - Done !\n",
      "MoviePy - video ready c:\\Users\\Bartosz\\Desktop\\automatic-lie-detection\\data\\raw\\silesian_deception_cut\\poli1Video\\person1_4.avi\n",
      "{'video_found': True, 'audio_found': False, 'metadata': {}, 'inputs': [{'streams': [{'input_number': 0, 'stream_number': 0, 'stream_type': 'video', 'language': None, 'default': True, 'size': [640, 480], 'bitrate': 20496, 'fps': 100.0, 'codec_name': 'mjpeg', 'profile': '(Baseline)'}], 'input_number': 0}], 'duration': 119.67, 'bitrate': 20524, 'start': 0.0, 'default_video_input_number': 0, 'default_video_stream_number': 0, 'video_codec_name': 'mjpeg', 'video_profile': '(Baseline)', 'video_size': [640, 480], 'video_bitrate': 20496, 'video_fps': 100.0, 'video_duration': 119.67, 'video_n_frames': 11967}\n",
      "C:\\Users\\Bartosz\\AppData\\Local\\Packages\\PythonSoftwareFoundation.Python.3.12_qbz5n2kfra8p0\\LocalCache\\local-packages\\Python312\\site-packages\\imageio_ffmpeg\\binaries\\ffmpeg-win64-v4.2.2.exe -i c:\\Users\\Bartosz\\Desktop\\automatic-lie-detection\\data\\raw\\silesian_deception\\poli1Video\\person1.avi -loglevel error -f image2pipe -vf scale=640:480 -sws_flags bicubic -pix_fmt rgb24 -vcodec rawvideo -\n",
      "{'video_found': True, 'audio_found': False, 'metadata': {}, 'inputs': [{'streams': [{'input_number': 0, 'stream_number': 0, 'stream_type': 'video', 'language': None, 'default': True, 'size': [640, 480], 'bitrate': 20496, 'fps': 100.0, 'codec_name': 'mjpeg', 'profile': '(Baseline)'}], 'input_number': 0}], 'duration': 119.67, 'bitrate': 20524, 'start': 0.0, 'default_video_input_number': 0, 'default_video_stream_number': 0, 'video_codec_name': 'mjpeg', 'video_profile': '(Baseline)', 'video_size': [640, 480], 'video_bitrate': 20496, 'video_fps': 100.0, 'video_duration': 119.67, 'video_n_frames': 11967}\n",
      "C:\\Users\\Bartosz\\AppData\\Local\\Packages\\PythonSoftwareFoundation.Python.3.12_qbz5n2kfra8p0\\LocalCache\\local-packages\\Python312\\site-packages\\imageio_ffmpeg\\binaries\\ffmpeg-win64-v4.2.2.exe -ss 48.490000 -i c:\\Users\\Bartosz\\Desktop\\automatic-lie-detection\\data\\raw\\silesian_deception\\poli1Video\\person1.avi -ss 1.000000 -loglevel error -f image2pipe -vf scale=640:480 -sws_flags bicubic -pix_fmt rgb24 -vcodec rawvideo -\n"
     ]
    },
    {
     "name": "stderr",
     "output_type": "stream",
     "text": [
      "                                                                            \n",
      "                                                                            \n",
      "frame_index:  66%|██████▌   | 6092/9239 [02:45<00:01, 1632.85it/s, now=None]"
     ]
    },
    {
     "name": "stdout",
     "output_type": "stream",
     "text": [
      "MoviePy - Building video c:\\Users\\Bartosz\\Desktop\\automatic-lie-detection\\data\\raw\\silesian_deception_cut\\poli1Video\\person1_5.avi.\n",
      "MoviePy - Writing video c:\\Users\\Bartosz\\Desktop\\automatic-lie-detection\\data\\raw\\silesian_deception_cut\\poli1Video\\person1_5.avi\n",
      "\n"
     ]
    },
    {
     "name": "stderr",
     "output_type": "stream",
     "text": [
      "\n",
      "\u001b[A\n",
      "\u001b[A\n",
      "\u001b[A\n",
      "\u001b[A\n",
      "\u001b[A\n",
      "\u001b[A\n",
      "\u001b[A\n",
      "\u001b[A\n",
      "\u001b[A\n",
      "\u001b[A\n",
      "\u001b[A\n",
      "\u001b[A\n",
      "                                                                            \n",
      "                                                                            \n",
      "frame_index:  66%|██████▌   | 6092/9239 [02:46<00:01, 1632.85it/s, now=None]"
     ]
    },
    {
     "name": "stdout",
     "output_type": "stream",
     "text": [
      "MoviePy - Done !\n",
      "MoviePy - video ready c:\\Users\\Bartosz\\Desktop\\automatic-lie-detection\\data\\raw\\silesian_deception_cut\\poli1Video\\person1_5.avi\n",
      "{'video_found': True, 'audio_found': False, 'metadata': {}, 'inputs': [{'streams': [{'input_number': 0, 'stream_number': 0, 'stream_type': 'video', 'language': None, 'default': True, 'size': [640, 480], 'bitrate': 20496, 'fps': 100.0, 'codec_name': 'mjpeg', 'profile': '(Baseline)'}], 'input_number': 0}], 'duration': 119.67, 'bitrate': 20524, 'start': 0.0, 'default_video_input_number': 0, 'default_video_stream_number': 0, 'video_codec_name': 'mjpeg', 'video_profile': '(Baseline)', 'video_size': [640, 480], 'video_bitrate': 20496, 'video_fps': 100.0, 'video_duration': 119.67, 'video_n_frames': 11967}\n",
      "C:\\Users\\Bartosz\\AppData\\Local\\Packages\\PythonSoftwareFoundation.Python.3.12_qbz5n2kfra8p0\\LocalCache\\local-packages\\Python312\\site-packages\\imageio_ffmpeg\\binaries\\ffmpeg-win64-v4.2.2.exe -i c:\\Users\\Bartosz\\Desktop\\automatic-lie-detection\\data\\raw\\silesian_deception\\poli1Video\\person1.avi -loglevel error -f image2pipe -vf scale=640:480 -sws_flags bicubic -pix_fmt rgb24 -vcodec rawvideo -\n",
      "{'video_found': True, 'audio_found': False, 'metadata': {}, 'inputs': [{'streams': [{'input_number': 0, 'stream_number': 0, 'stream_type': 'video', 'language': None, 'default': True, 'size': [640, 480], 'bitrate': 20496, 'fps': 100.0, 'codec_name': 'mjpeg', 'profile': '(Baseline)'}], 'input_number': 0}], 'duration': 119.67, 'bitrate': 20524, 'start': 0.0, 'default_video_input_number': 0, 'default_video_stream_number': 0, 'video_codec_name': 'mjpeg', 'video_profile': '(Baseline)', 'video_size': [640, 480], 'video_bitrate': 20496, 'video_fps': 100.0, 'video_duration': 119.67, 'video_n_frames': 11967}\n",
      "C:\\Users\\Bartosz\\AppData\\Local\\Packages\\PythonSoftwareFoundation.Python.3.12_qbz5n2kfra8p0\\LocalCache\\local-packages\\Python312\\site-packages\\imageio_ffmpeg\\binaries\\ffmpeg-win64-v4.2.2.exe -ss 59.590000 -i c:\\Users\\Bartosz\\Desktop\\automatic-lie-detection\\data\\raw\\silesian_deception\\poli1Video\\person1.avi -ss 1.000000 -loglevel error -f image2pipe -vf scale=640:480 -sws_flags bicubic -pix_fmt rgb24 -vcodec rawvideo -\n"
     ]
    },
    {
     "name": "stderr",
     "output_type": "stream",
     "text": [
      "                                                                            \n",
      "                                                                            \n",
      "frame_index:  66%|██████▌   | 6092/9239 [02:47<00:01, 1632.85it/s, now=None]"
     ]
    },
    {
     "name": "stdout",
     "output_type": "stream",
     "text": [
      "MoviePy - Building video c:\\Users\\Bartosz\\Desktop\\automatic-lie-detection\\data\\raw\\silesian_deception_cut\\poli1Video\\person1_6.avi.\n",
      "MoviePy - Writing video c:\\Users\\Bartosz\\Desktop\\automatic-lie-detection\\data\\raw\\silesian_deception_cut\\poli1Video\\person1_6.avi\n",
      "\n"
     ]
    },
    {
     "name": "stderr",
     "output_type": "stream",
     "text": [
      "\n",
      "\u001b[A\n",
      "\u001b[A\n",
      "\u001b[A\n",
      "\u001b[A\n",
      "\u001b[A\n",
      "\u001b[A\n",
      "\u001b[A\n",
      "\u001b[A\n",
      "\u001b[A\n",
      "\u001b[A\n",
      "\u001b[A\n",
      "\u001b[A\n",
      "                                                                            \n",
      "                                                                            \n",
      "frame_index:  66%|██████▌   | 6092/9239 [02:48<00:01, 1632.85it/s, now=None]"
     ]
    },
    {
     "name": "stdout",
     "output_type": "stream",
     "text": [
      "MoviePy - Done !\n",
      "MoviePy - video ready c:\\Users\\Bartosz\\Desktop\\automatic-lie-detection\\data\\raw\\silesian_deception_cut\\poli1Video\\person1_6.avi\n",
      "{'video_found': True, 'audio_found': False, 'metadata': {}, 'inputs': [{'streams': [{'input_number': 0, 'stream_number': 0, 'stream_type': 'video', 'language': None, 'default': True, 'size': [640, 480], 'bitrate': 20496, 'fps': 100.0, 'codec_name': 'mjpeg', 'profile': '(Baseline)'}], 'input_number': 0}], 'duration': 119.67, 'bitrate': 20524, 'start': 0.0, 'default_video_input_number': 0, 'default_video_stream_number': 0, 'video_codec_name': 'mjpeg', 'video_profile': '(Baseline)', 'video_size': [640, 480], 'video_bitrate': 20496, 'video_fps': 100.0, 'video_duration': 119.67, 'video_n_frames': 11967}\n",
      "C:\\Users\\Bartosz\\AppData\\Local\\Packages\\PythonSoftwareFoundation.Python.3.12_qbz5n2kfra8p0\\LocalCache\\local-packages\\Python312\\site-packages\\imageio_ffmpeg\\binaries\\ffmpeg-win64-v4.2.2.exe -i c:\\Users\\Bartosz\\Desktop\\automatic-lie-detection\\data\\raw\\silesian_deception\\poli1Video\\person1.avi -loglevel error -f image2pipe -vf scale=640:480 -sws_flags bicubic -pix_fmt rgb24 -vcodec rawvideo -\n",
      "{'video_found': True, 'audio_found': False, 'metadata': {}, 'inputs': [{'streams': [{'input_number': 0, 'stream_number': 0, 'stream_type': 'video', 'language': None, 'default': True, 'size': [640, 480], 'bitrate': 20496, 'fps': 100.0, 'codec_name': 'mjpeg', 'profile': '(Baseline)'}], 'input_number': 0}], 'duration': 119.67, 'bitrate': 20524, 'start': 0.0, 'default_video_input_number': 0, 'default_video_stream_number': 0, 'video_codec_name': 'mjpeg', 'video_profile': '(Baseline)', 'video_size': [640, 480], 'video_bitrate': 20496, 'video_fps': 100.0, 'video_duration': 119.67, 'video_n_frames': 11967}\n",
      "C:\\Users\\Bartosz\\AppData\\Local\\Packages\\PythonSoftwareFoundation.Python.3.12_qbz5n2kfra8p0\\LocalCache\\local-packages\\Python312\\site-packages\\imageio_ffmpeg\\binaries\\ffmpeg-win64-v4.2.2.exe -ss 70.660000 -i c:\\Users\\Bartosz\\Desktop\\automatic-lie-detection\\data\\raw\\silesian_deception\\poli1Video\\person1.avi -ss 1.000000 -loglevel error -f image2pipe -vf scale=640:480 -sws_flags bicubic -pix_fmt rgb24 -vcodec rawvideo -\n"
     ]
    },
    {
     "name": "stderr",
     "output_type": "stream",
     "text": [
      "                                                                            \n",
      "                                                                            \n",
      "frame_index:  66%|██████▌   | 6092/9239 [02:48<00:01, 1632.85it/s, now=None]"
     ]
    },
    {
     "name": "stdout",
     "output_type": "stream",
     "text": [
      "MoviePy - Building video c:\\Users\\Bartosz\\Desktop\\automatic-lie-detection\\data\\raw\\silesian_deception_cut\\poli1Video\\person1_7.avi.\n",
      "MoviePy - Writing video c:\\Users\\Bartosz\\Desktop\\automatic-lie-detection\\data\\raw\\silesian_deception_cut\\poli1Video\\person1_7.avi\n",
      "\n"
     ]
    },
    {
     "name": "stderr",
     "output_type": "stream",
     "text": [
      "\n",
      "\u001b[A\n",
      "\u001b[A\n",
      "\u001b[A\n",
      "\u001b[A\n",
      "\u001b[A\n",
      "\u001b[A\n",
      "\u001b[A\n",
      "\u001b[A\n",
      "\u001b[A\n",
      "\u001b[A\n",
      "\u001b[A\n",
      "\u001b[A\n",
      "                                                                            \n",
      "                                                                            \n",
      "                                                                            \n",
      "                                                                            \n",
      "frame_index:  66%|██████▌   | 6092/9239 [02:49<00:01, 1632.85it/s, now=None]"
     ]
    },
    {
     "name": "stdout",
     "output_type": "stream",
     "text": [
      "MoviePy - Done !\n",
      "MoviePy - video ready c:\\Users\\Bartosz\\Desktop\\automatic-lie-detection\\data\\raw\\silesian_deception_cut\\poli1Video\\person1_7.avi\n",
      "{'video_found': True, 'audio_found': False, 'metadata': {}, 'inputs': [{'streams': [{'input_number': 0, 'stream_number': 0, 'stream_type': 'video', 'language': None, 'default': True, 'size': [640, 480], 'bitrate': 20496, 'fps': 100.0, 'codec_name': 'mjpeg', 'profile': '(Baseline)'}], 'input_number': 0}], 'duration': 119.67, 'bitrate': 20524, 'start': 0.0, 'default_video_input_number': 0, 'default_video_stream_number': 0, 'video_codec_name': 'mjpeg', 'video_profile': '(Baseline)', 'video_size': [640, 480], 'video_bitrate': 20496, 'video_fps': 100.0, 'video_duration': 119.67, 'video_n_frames': 11967}\n",
      "C:\\Users\\Bartosz\\AppData\\Local\\Packages\\PythonSoftwareFoundation.Python.3.12_qbz5n2kfra8p0\\LocalCache\\local-packages\\Python312\\site-packages\\imageio_ffmpeg\\binaries\\ffmpeg-win64-v4.2.2.exe -i c:\\Users\\Bartosz\\Desktop\\automatic-lie-detection\\data\\raw\\silesian_deception\\poli1Video\\person1.avi -loglevel error -f image2pipe -vf scale=640:480 -sws_flags bicubic -pix_fmt rgb24 -vcodec rawvideo -\n",
      "{'video_found': True, 'audio_found': False, 'metadata': {}, 'inputs': [{'streams': [{'input_number': 0, 'stream_number': 0, 'stream_type': 'video', 'language': None, 'default': True, 'size': [640, 480], 'bitrate': 20496, 'fps': 100.0, 'codec_name': 'mjpeg', 'profile': '(Baseline)'}], 'input_number': 0}], 'duration': 119.67, 'bitrate': 20524, 'start': 0.0, 'default_video_input_number': 0, 'default_video_stream_number': 0, 'video_codec_name': 'mjpeg', 'video_profile': '(Baseline)', 'video_size': [640, 480], 'video_bitrate': 20496, 'video_fps': 100.0, 'video_duration': 119.67, 'video_n_frames': 11967}\n",
      "C:\\Users\\Bartosz\\AppData\\Local\\Packages\\PythonSoftwareFoundation.Python.3.12_qbz5n2kfra8p0\\LocalCache\\local-packages\\Python312\\site-packages\\imageio_ffmpeg\\binaries\\ffmpeg-win64-v4.2.2.exe -ss 81.460000 -i c:\\Users\\Bartosz\\Desktop\\automatic-lie-detection\\data\\raw\\silesian_deception\\poli1Video\\person1.avi -ss 1.000000 -loglevel error -f image2pipe -vf scale=640:480 -sws_flags bicubic -pix_fmt rgb24 -vcodec rawvideo -\n",
      "MoviePy - Building video c:\\Users\\Bartosz\\Desktop\\automatic-lie-detection\\data\\raw\\silesian_deception_cut\\poli1Video\\person1_8.avi.\n",
      "MoviePy - Writing video c:\\Users\\Bartosz\\Desktop\\automatic-lie-detection\\data\\raw\\silesian_deception_cut\\poli1Video\\person1_8.avi\n",
      "\n"
     ]
    },
    {
     "name": "stderr",
     "output_type": "stream",
     "text": [
      "\n",
      "\u001b[A\n",
      "\u001b[A\n",
      "\u001b[A\n",
      "\u001b[A\n",
      "\u001b[A\n",
      "\u001b[A\n",
      "\u001b[A\n",
      "\u001b[A\n",
      "\u001b[A\n",
      "\u001b[A\n",
      "\u001b[A\n",
      "                                                                            \n",
      "                                                                            \n",
      "                                                                            \n",
      "                                                                            \n",
      "frame_index:  66%|██████▌   | 6092/9239 [02:51<00:01, 1632.85it/s, now=None]"
     ]
    },
    {
     "name": "stdout",
     "output_type": "stream",
     "text": [
      "MoviePy - Done !\n",
      "MoviePy - video ready c:\\Users\\Bartosz\\Desktop\\automatic-lie-detection\\data\\raw\\silesian_deception_cut\\poli1Video\\person1_8.avi\n",
      "{'video_found': True, 'audio_found': False, 'metadata': {}, 'inputs': [{'streams': [{'input_number': 0, 'stream_number': 0, 'stream_type': 'video', 'language': None, 'default': True, 'size': [640, 480], 'bitrate': 20496, 'fps': 100.0, 'codec_name': 'mjpeg', 'profile': '(Baseline)'}], 'input_number': 0}], 'duration': 119.67, 'bitrate': 20524, 'start': 0.0, 'default_video_input_number': 0, 'default_video_stream_number': 0, 'video_codec_name': 'mjpeg', 'video_profile': '(Baseline)', 'video_size': [640, 480], 'video_bitrate': 20496, 'video_fps': 100.0, 'video_duration': 119.67, 'video_n_frames': 11967}\n",
      "C:\\Users\\Bartosz\\AppData\\Local\\Packages\\PythonSoftwareFoundation.Python.3.12_qbz5n2kfra8p0\\LocalCache\\local-packages\\Python312\\site-packages\\imageio_ffmpeg\\binaries\\ffmpeg-win64-v4.2.2.exe -i c:\\Users\\Bartosz\\Desktop\\automatic-lie-detection\\data\\raw\\silesian_deception\\poli1Video\\person1.avi -loglevel error -f image2pipe -vf scale=640:480 -sws_flags bicubic -pix_fmt rgb24 -vcodec rawvideo -\n",
      "{'video_found': True, 'audio_found': False, 'metadata': {}, 'inputs': [{'streams': [{'input_number': 0, 'stream_number': 0, 'stream_type': 'video', 'language': None, 'default': True, 'size': [640, 480], 'bitrate': 20496, 'fps': 100.0, 'codec_name': 'mjpeg', 'profile': '(Baseline)'}], 'input_number': 0}], 'duration': 119.67, 'bitrate': 20524, 'start': 0.0, 'default_video_input_number': 0, 'default_video_stream_number': 0, 'video_codec_name': 'mjpeg', 'video_profile': '(Baseline)', 'video_size': [640, 480], 'video_bitrate': 20496, 'video_fps': 100.0, 'video_duration': 119.67, 'video_n_frames': 11967}\n",
      "C:\\Users\\Bartosz\\AppData\\Local\\Packages\\PythonSoftwareFoundation.Python.3.12_qbz5n2kfra8p0\\LocalCache\\local-packages\\Python312\\site-packages\\imageio_ffmpeg\\binaries\\ffmpeg-win64-v4.2.2.exe -ss 91.420000 -i c:\\Users\\Bartosz\\Desktop\\automatic-lie-detection\\data\\raw\\silesian_deception\\poli1Video\\person1.avi -ss 1.000000 -loglevel error -f image2pipe -vf scale=640:480 -sws_flags bicubic -pix_fmt rgb24 -vcodec rawvideo -\n",
      "MoviePy - Building video c:\\Users\\Bartosz\\Desktop\\automatic-lie-detection\\data\\raw\\silesian_deception_cut\\poli1Video\\person1_9.avi.\n",
      "MoviePy - Writing video c:\\Users\\Bartosz\\Desktop\\automatic-lie-detection\\data\\raw\\silesian_deception_cut\\poli1Video\\person1_9.avi\n",
      "\n"
     ]
    },
    {
     "name": "stderr",
     "output_type": "stream",
     "text": [
      "\n",
      "\u001b[A\n",
      "\u001b[A\n",
      "\u001b[A\n",
      "\u001b[A\n",
      "\u001b[A\n",
      "\u001b[A\n",
      "\u001b[A\n",
      "\u001b[A\n",
      "\u001b[A\n",
      "\u001b[A\n",
      "\u001b[A\n",
      "\u001b[A\n",
      "\u001b[A\n",
      "                                                                            \n",
      "                                                                            \n",
      "frame_index:  66%|██████▌   | 6092/9239 [02:52<00:01, 1632.85it/s, now=None]"
     ]
    },
    {
     "name": "stdout",
     "output_type": "stream",
     "text": [
      "MoviePy - Done !\n",
      "MoviePy - video ready c:\\Users\\Bartosz\\Desktop\\automatic-lie-detection\\data\\raw\\silesian_deception_cut\\poli1Video\\person1_9.avi\n",
      "{'video_found': True, 'audio_found': False, 'metadata': {}, 'inputs': [{'streams': [{'input_number': 0, 'stream_number': 0, 'stream_type': 'video', 'language': None, 'default': True, 'size': [640, 480], 'bitrate': 20496, 'fps': 100.0, 'codec_name': 'mjpeg', 'profile': '(Baseline)'}], 'input_number': 0}], 'duration': 119.67, 'bitrate': 20524, 'start': 0.0, 'default_video_input_number': 0, 'default_video_stream_number': 0, 'video_codec_name': 'mjpeg', 'video_profile': '(Baseline)', 'video_size': [640, 480], 'video_bitrate': 20496, 'video_fps': 100.0, 'video_duration': 119.67, 'video_n_frames': 11967}\n",
      "C:\\Users\\Bartosz\\AppData\\Local\\Packages\\PythonSoftwareFoundation.Python.3.12_qbz5n2kfra8p0\\LocalCache\\local-packages\\Python312\\site-packages\\imageio_ffmpeg\\binaries\\ffmpeg-win64-v4.2.2.exe -i c:\\Users\\Bartosz\\Desktop\\automatic-lie-detection\\data\\raw\\silesian_deception\\poli1Video\\person1.avi -loglevel error -f image2pipe -vf scale=640:480 -sws_flags bicubic -pix_fmt rgb24 -vcodec rawvideo -\n",
      "{'video_found': True, 'audio_found': False, 'metadata': {}, 'inputs': [{'streams': [{'input_number': 0, 'stream_number': 0, 'stream_type': 'video', 'language': None, 'default': True, 'size': [640, 480], 'bitrate': 20496, 'fps': 100.0, 'codec_name': 'mjpeg', 'profile': '(Baseline)'}], 'input_number': 0}], 'duration': 119.67, 'bitrate': 20524, 'start': 0.0, 'default_video_input_number': 0, 'default_video_stream_number': 0, 'video_codec_name': 'mjpeg', 'video_profile': '(Baseline)', 'video_size': [640, 480], 'video_bitrate': 20496, 'video_fps': 100.0, 'video_duration': 119.67, 'video_n_frames': 11967}\n",
      "C:\\Users\\Bartosz\\AppData\\Local\\Packages\\PythonSoftwareFoundation.Python.3.12_qbz5n2kfra8p0\\LocalCache\\local-packages\\Python312\\site-packages\\imageio_ffmpeg\\binaries\\ffmpeg-win64-v4.2.2.exe -ss 103.300000 -i c:\\Users\\Bartosz\\Desktop\\automatic-lie-detection\\data\\raw\\silesian_deception\\poli1Video\\person1.avi -ss 1.000000 -loglevel error -f image2pipe -vf scale=640:480 -sws_flags bicubic -pix_fmt rgb24 -vcodec rawvideo -\n"
     ]
    },
    {
     "name": "stderr",
     "output_type": "stream",
     "text": [
      "                                                                            \n",
      "                                                                            \n",
      "frame_index:  66%|██████▌   | 6092/9239 [02:52<00:01, 1632.85it/s, now=None]"
     ]
    },
    {
     "name": "stdout",
     "output_type": "stream",
     "text": [
      "MoviePy - Building video c:\\Users\\Bartosz\\Desktop\\automatic-lie-detection\\data\\raw\\silesian_deception_cut\\poli1Video\\person1_10.avi.\n",
      "MoviePy - Writing video c:\\Users\\Bartosz\\Desktop\\automatic-lie-detection\\data\\raw\\silesian_deception_cut\\poli1Video\\person1_10.avi\n",
      "\n"
     ]
    },
    {
     "name": "stderr",
     "output_type": "stream",
     "text": [
      "\n",
      "\u001b[A\n",
      "\u001b[A\n",
      "\u001b[A\n",
      "\u001b[A\n",
      "\u001b[A\n",
      "\u001b[A\n",
      "\u001b[A\n",
      "\u001b[A\n",
      "\u001b[A\n",
      "\u001b[A\n",
      "\u001b[A\n",
      "\u001b[A\n",
      "\u001b[A\n",
      "                                                                            \n",
      "                                                                            \n",
      "frame_index:  66%|██████▌   | 6092/9239 [02:53<00:01, 1632.85it/s, now=None]"
     ]
    },
    {
     "name": "stdout",
     "output_type": "stream",
     "text": [
      "MoviePy - Done !\n",
      "MoviePy - video ready c:\\Users\\Bartosz\\Desktop\\automatic-lie-detection\\data\\raw\\silesian_deception_cut\\poli1Video\\person1_10.avi\n"
     ]
    }
   ],
   "source": [
    "from moviepy import VideoFileClip\n",
    "\n",
    "\n",
    "for subfolder in [\"poli1Video\", \"poli2Video\", \"poli3Video\"]:\n",
    "    SUBFOLDER_DIR = os.path.join(SILESIAN_DATA_PATH, subfolder)\n",
    "    OUTPUT_DIR = os.path.join(MIDWAY_DATA_PATH, subfolder)\n",
    "    if not os.path.exists(OUTPUT_DIR):\n",
    "        os.mkdir(OUTPUT_DIR)\n",
    "    for file in os.listdir(SUBFOLDER_DIR):\n",
    "        if \".avi\" not in file:\n",
    "            continue\n",
    "        person_id = file.split(\".\")[0]\n",
    "        if os.path.exists(os.path.join(OUTPUT_DIR, f\"{person_id}_1.avi\")):  # skip for existing\n",
    "            continue\n",
    "\n",
    "        for q_id in range(1, 11):\n",
    "            with VideoFileClip(os.path.join(SUBFOLDER_DIR, file)) as video:\n",
    "                new = video.subclipped(\n",
    "                    mappings[subfolder][person_id][q_id][0] / 1000,\n",
    "                    mappings[subfolder][person_id][q_id][1] / 1000,\n",
    "                )\n",
    "                new.write_videofile(os.path.join(OUTPUT_DIR, f\"{person_id}_{q_id}.avi\"), codec=\"libx264\", preset=\"ultrafast\", bitrate=\"5000k\")"
   ]
  },
  {
   "cell_type": "markdown",
   "metadata": {},
   "source": [
    "### Data processor"
   ]
  },
  {
   "cell_type": "code",
   "execution_count": 5,
   "metadata": {},
   "outputs": [],
   "source": [
    "dp = DataProcessor(\n",
    "    frame_preprocessors=[\n",
    "        FaceExtractionPreprocessor(\n",
    "            skip_bad_frames=False,\n",
    "            output_size=(200, 200)\n",
    "        ),\n",
    "        TextureFrontalizationPreprocessor(\n",
    "            models_path=MODELS_PATH,\n",
    "            do_calculate_symmetry=True\n",
    "        ),\n",
    "    ],\n",
    "    frame_processor=SupervisionVertexProcessorWithLandmarkFrontalization(\n",
    "        reference_points_path=REFERENCE_POINTS_PATH,\n",
    "        do_make_face_mesh=False  # Output pure landmarks\n",
    "    ),\n",
    ")"
   ]
  },
  {
   "cell_type": "markdown",
   "metadata": {},
   "source": [
    "# Process silesian data"
   ]
  },
  {
   "cell_type": "code",
   "execution_count": 6,
   "metadata": {},
   "outputs": [],
   "source": [
    "# os.makedirs(PROCESSED_DATA_PATH, exist_ok=True)"
   ]
  },
  {
   "cell_type": "code",
   "execution_count": 7,
   "metadata": {},
   "outputs": [],
   "source": [
    "already_processed_data = set(file.split(\".\")[0] for file in os.listdir(PROCESSED_DATA_PATH))"
   ]
  },
  {
   "cell_type": "code",
   "execution_count": 8,
   "metadata": {},
   "outputs": [
    {
     "name": "stderr",
     "output_type": "stream",
     "text": [
      "Processing files:   0%|          | 0/321 [00:00<?, ?it/s]"
     ]
    },
    {
     "name": "stderr",
     "output_type": "stream",
     "text": [
      "Processing files:  50%|█████     | 161/321 [1:49:33<4:25:14, 99.46s/it] "
     ]
    },
    {
     "name": "stdout",
     "output_type": "stream",
     "text": [
      "Could not process c:\\Users\\Bartosz\\Desktop\\automatic-lie-detection\\data\\raw\\miami_deception\\Videos\\MU3D Codebook.xlsx due to Could not open video at c:\\Users\\Bartosz\\Desktop\\automatic-lie-detection\\data\\raw\\miami_deception\\Videos\\MU3D Codebook.xlsx\n"
     ]
    },
    {
     "name": "stderr",
     "output_type": "stream",
     "text": [
      "                                                                        \r"
     ]
    }
   ],
   "source": [
    "total = len(os.listdir(MIAMI_DATA_PATH))\n",
    "\n",
    "for file in tqdm(os.listdir(MIAMI_DATA_PATH), desc=f\"Processing files\", total=total, leave=False):\n",
    "    file_path = os.path.join(MIAMI_DATA_PATH, file)\n",
    "    out_file = file.split(\".\")[0]\n",
    "    if out_file in already_processed_data:\n",
    "        continue\n",
    "    try:\n",
    "        dp.process_data(file_path, os.path.join(PROCESSED_DATA_PATH, out_file))\n",
    "    except Exception as e:\n",
    "        print(f\"Could not process {file_path} due to {e}\")\n",
    "        continue"
   ]
  }
 ],
 "metadata": {
  "kernelspec": {
   "display_name": "Python 3",
   "language": "python",
   "name": "python3"
  },
  "language_info": {
   "codemirror_mode": {
    "name": "ipython",
    "version": 3
   },
   "file_extension": ".py",
   "mimetype": "text/x-python",
   "name": "python",
   "nbconvert_exporter": "python",
   "pygments_lexer": "ipython3",
   "version": "3.12.9"
  }
 },
 "nbformat": 4,
 "nbformat_minor": 2
}
